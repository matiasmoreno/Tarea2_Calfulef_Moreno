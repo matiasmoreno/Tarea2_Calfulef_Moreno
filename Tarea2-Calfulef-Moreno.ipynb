{
 "cells": [
  {
   "cell_type": "markdown",
   "metadata": {
    "colab_type": "text",
    "id": "nW14JTJZH03P"
   },
   "source": [
    "<center> \n",
    "<img src=\"http://www.exalumnos.usm.cl/wp-content/uploads/2015/06/Isotipo-Negro.gif\" title=\"Title text\" width=\"20%\" height=\"20%\" />\n",
    "\n",
    "<hr style=\"height:2px;border:none\"/>\n",
    "<h1 align='center'> INF-393 Máquinas de Aprendizaje II-2018 </h1>\n",
    "\n",
    "<H3 align='center'> Tarea 2 - Fronteras no Lineales - Roberto Calfulef - Matías Moreno </H3>\n",
    "<hr style=\"height:2px;border:none\"/>\n",
    "\n",
    "La tarea se divide en secciones:\n",
    "\n",
    "[1.](#primero) Sentiment Analysis en Texto  \n",
    "[2.](#segundo) Problema de Múltiples Anotaciones\n",
    "</center>"
   ]
  },
  {
   "cell_type": "markdown",
   "metadata": {
    "colab_type": "text",
    "id": "HeRo8ZlMH47T"
   },
   "source": [
    "# <a id=\"primero\"></a>\n",
    "## 1. Sentiment Analysis en Texto\n",
    "\n",
    "El análisis de emociones o sentimientos se refiere al proceso de extraer información acerca de la actitud\n",
    "que una persona (o grupo de ellas) manifiesta, en un determinado medio o formato digital, con respecto a un\n",
    "tópico o contexto de comunicación. Uno de los casos más estudiados corresponde a determinar la polaridad\n",
    "de un trozo de texto, es decir, clasificar una determinada evaluación escrita (*review*), en que una persona\n",
    "manifiesta una opinión, como *positiva*, *negativa* o *neutral*. Esto también ha sido extendido a otros medios, como lo es analizar la polaridad de textos en redes sociales.  La dificultad de este problema radica en el carácter altamente ambiguo e informal del lenguaje que utilizan naturalmente las personas ası́ como el manejo de negaciones, sarcasmo y abreviaciones en una frase.\n",
    "\n",
    "<img src=\"https://formtitanhelpdeskimage.s3.amazonaws.com/70c78f9df2fd5c130e7021644f78f4c5.jpg\" title=\"Title text\" width=\"40%\" />\n",
    "\n",
    "\n",
    "Los datos que usaremos para esta actividad corresponden a un subconjunto de los datos publicados en **Kaggle**,  en  el  contexto  de  una  competencia  organizada  por  la  Universidad  de  Stanford  [[2]](#refs).   Cada  registro disponible corresponderá a una opinión sobre una película, registrada sobre el sitio *Rotten Tomatoes*.  Para empezar  nos  limitaremos  a  estudiar  textos  anotados  como  positivos  o  negativos,  clases  que  codificaremos como +1 y 0 respectivamente."
   ]
  },
  {
   "cell_type": "markdown",
   "metadata": {
    "colab_type": "text",
    "id": "VnKUFLaiH8AV"
   },
   "source": [
    "Cargue los dos conjuntos de datos a ser trabajados, donde la etiqueta ya viene codificada y la dejaremos como negativo (0) y positivo (1)."
   ]
  },
  {
   "cell_type": "code",
   "execution_count": 18,
   "metadata": {
    "colab": {},
    "colab_type": "code",
    "id": "z6Cl48lQL3wI"
   },
   "outputs": [],
   "source": [
    "import pandas as pd\n",
    "import numpy as np"
   ]
  },
  {
   "cell_type": "code",
   "execution_count": 19,
   "metadata": {
    "colab": {},
    "colab_type": "code",
    "id": "qnG-4ia-H-j8"
   },
   "outputs": [],
   "source": [
    "ftr = open(\"train_data.csv\", \"r\",  encoding=\"ISO-8859-1\")\n",
    "rows = [line.split(\" \",1) for line in ftr.readlines()]\n",
    "df_train = pd.DataFrame(rows, columns=['Sentiment','Text'])\n",
    "df_train['Sentiment'] = (pd.to_numeric(df_train['Sentiment'])+1)/2 # 0 o 1\n",
    "fts = open(\"test_data.csv\", \"r\",  encoding=\"ISO-8859-1\")\n",
    "rows = [line.split(\" \",1) for line in fts.readlines()]\n",
    "df_test = pd.DataFrame(rows, columns=['Sentiment','Text'])\n",
    "df_test['Sentiment'] = (pd.to_numeric(df_test['Sentiment'])+1)/2 # 0 o 1\n",
    "\n",
    "df_train_text = df_train.Text\n",
    "df_test_text = df_test.Text\n",
    "labels_train = df_train.Sentiment.values\n",
    "labels_test = df_test.Sentiment.values"
   ]
  },
  {
   "cell_type": "markdown",
   "metadata": {
    "colab_type": "text",
    "id": "OyNHkd4JI773"
   },
   "source": [
    "a) Describa los datos trabajados, como la cantidad de datos en cada conjunto, largo de los textos, la cantidad de ejemplo por cada clase, o alguna otra forma que piense que pueda ser útil para comprender el problema trabajado."
   ]
  },
  {
   "cell_type": "code",
   "execution_count": 20,
   "metadata": {
    "colab": {
     "base_uri": "https://localhost:8080/",
     "height": 406
    },
    "colab_type": "code",
    "executionInfo": {
     "elapsed": 848,
     "status": "ok",
     "timestamp": 1584643734507,
     "user": {
      "displayName": "Andrés Calfulef Levio",
      "photoUrl": "https://lh3.googleusercontent.com/a-/AOh14GiNg9hZc4Kd3slZQ2wz9P-h4zm4LaeU8AJWjlgtOQ=s64",
      "userId": "04515861908906023812"
     },
     "user_tz": 180
    },
    "id": "gFVD7LWfI9lA",
    "outputId": "a8c83461-c520-47b4-a530-1e4ac4ec0051"
   },
   "outputs": [
    {
     "data": {
      "text/html": [
       "<div>\n",
       "<style scoped>\n",
       "    .dataframe tbody tr th:only-of-type {\n",
       "        vertical-align: middle;\n",
       "    }\n",
       "\n",
       "    .dataframe tbody tr th {\n",
       "        vertical-align: top;\n",
       "    }\n",
       "\n",
       "    .dataframe thead th {\n",
       "        text-align: right;\n",
       "    }\n",
       "</style>\n",
       "<table border=\"1\" class=\"dataframe\">\n",
       "  <thead>\n",
       "    <tr style=\"text-align: right;\">\n",
       "      <th></th>\n",
       "      <th>Sentiment</th>\n",
       "      <th>Text</th>\n",
       "    </tr>\n",
       "  </thead>\n",
       "  <tbody>\n",
       "    <tr>\n",
       "      <th>0</th>\n",
       "      <td>0.0</td>\n",
       "      <td>everything's serious , poetic , earnest and --...</td>\n",
       "    </tr>\n",
       "    <tr>\n",
       "      <th>1</th>\n",
       "      <td>0.0</td>\n",
       "      <td>narratively , trouble every day is a plodding ...</td>\n",
       "    </tr>\n",
       "    <tr>\n",
       "      <th>2</th>\n",
       "      <td>1.0</td>\n",
       "      <td>a truly wonderful tale combined with stunning ...</td>\n",
       "    </tr>\n",
       "    <tr>\n",
       "      <th>3</th>\n",
       "      <td>1.0</td>\n",
       "      <td>jason patric and ray liotta make for one splen...</td>\n",
       "    </tr>\n",
       "    <tr>\n",
       "      <th>4</th>\n",
       "      <td>0.0</td>\n",
       "      <td>haneke keeps us at arm's length . guided more ...</td>\n",
       "    </tr>\n",
       "    <tr>\n",
       "      <th>...</th>\n",
       "      <td>...</td>\n",
       "      <td>...</td>\n",
       "    </tr>\n",
       "    <tr>\n",
       "      <th>3549</th>\n",
       "      <td>0.0</td>\n",
       "      <td>it takes a strange kind of laziness to waste t...</td>\n",
       "    </tr>\n",
       "    <tr>\n",
       "      <th>3550</th>\n",
       "      <td>0.0</td>\n",
       "      <td>an easy watch , except for the annoying demean...</td>\n",
       "    </tr>\n",
       "    <tr>\n",
       "      <th>3551</th>\n",
       "      <td>1.0</td>\n",
       "      <td>dog soldiers doesn't transcend genre -- it emb...</td>\n",
       "    </tr>\n",
       "    <tr>\n",
       "      <th>3552</th>\n",
       "      <td>0.0</td>\n",
       "      <td>it uses the pain and violence of war as backgr...</td>\n",
       "    </tr>\n",
       "    <tr>\n",
       "      <th>3553</th>\n",
       "      <td>1.0</td>\n",
       "      <td>victor rosa is leguizamo's best movie work so ...</td>\n",
       "    </tr>\n",
       "  </tbody>\n",
       "</table>\n",
       "<p>3554 rows × 2 columns</p>\n",
       "</div>"
      ],
      "text/plain": [
       "      Sentiment                                               Text\n",
       "0           0.0  everything's serious , poetic , earnest and --...\n",
       "1           0.0  narratively , trouble every day is a plodding ...\n",
       "2           1.0  a truly wonderful tale combined with stunning ...\n",
       "3           1.0  jason patric and ray liotta make for one splen...\n",
       "4           0.0  haneke keeps us at arm's length . guided more ...\n",
       "...         ...                                                ...\n",
       "3549        0.0  it takes a strange kind of laziness to waste t...\n",
       "3550        0.0  an easy watch , except for the annoying demean...\n",
       "3551        1.0  dog soldiers doesn't transcend genre -- it emb...\n",
       "3552        0.0  it uses the pain and violence of war as backgr...\n",
       "3553        1.0  victor rosa is leguizamo's best movie work so ...\n",
       "\n",
       "[3554 rows x 2 columns]"
      ]
     },
     "execution_count": 20,
     "metadata": {},
     "output_type": "execute_result"
    }
   ],
   "source": [
    "df_train"
   ]
  },
  {
   "cell_type": "code",
   "execution_count": 21,
   "metadata": {
    "colab": {
     "base_uri": "https://localhost:8080/",
     "height": 262
    },
    "colab_type": "code",
    "executionInfo": {
     "elapsed": 1593,
     "status": "ok",
     "timestamp": 1584637827922,
     "user": {
      "displayName": "Andrés Calfulef Levio",
      "photoUrl": "https://lh3.googleusercontent.com/a-/AOh14GiNg9hZc4Kd3slZQ2wz9P-h4zm4LaeU8AJWjlgtOQ=s64",
      "userId": "04515861908906023812"
     },
     "user_tz": 180
    },
    "id": "EpeuN3Z0KHtY",
    "outputId": "d3a53724-1f69-43cd-8a1b-26b57237743f"
   },
   "outputs": [
    {
     "data": {
      "text/html": [
       "<div>\n",
       "<style scoped>\n",
       "    .dataframe tbody tr th:only-of-type {\n",
       "        vertical-align: middle;\n",
       "    }\n",
       "\n",
       "    .dataframe tbody tr th {\n",
       "        vertical-align: top;\n",
       "    }\n",
       "\n",
       "    .dataframe thead th {\n",
       "        text-align: right;\n",
       "    }\n",
       "</style>\n",
       "<table border=\"1\" class=\"dataframe\">\n",
       "  <thead>\n",
       "    <tr style=\"text-align: right;\">\n",
       "      <th></th>\n",
       "      <th>Sentiment</th>\n",
       "      <th>Text</th>\n",
       "    </tr>\n",
       "  </thead>\n",
       "  <tbody>\n",
       "    <tr>\n",
       "      <th>0</th>\n",
       "      <td>0.0</td>\n",
       "      <td>screenwriter dan schneider and director shawn ...</td>\n",
       "    </tr>\n",
       "    <tr>\n",
       "      <th>1</th>\n",
       "      <td>0.0</td>\n",
       "      <td>home alone goes hollywood , a funny premise un...</td>\n",
       "    </tr>\n",
       "    <tr>\n",
       "      <th>2</th>\n",
       "      <td>1.0</td>\n",
       "      <td>seldom has a movie so closely matched the spir...</td>\n",
       "    </tr>\n",
       "    <tr>\n",
       "      <th>3</th>\n",
       "      <td>0.0</td>\n",
       "      <td>less dizzying than just dizzy , the jaunt is p...</td>\n",
       "    </tr>\n",
       "    <tr>\n",
       "      <th>4</th>\n",
       "      <td>0.0</td>\n",
       "      <td>an ultra-low-budget indie debut that smacks mo...</td>\n",
       "    </tr>\n",
       "    <tr>\n",
       "      <th>...</th>\n",
       "      <td>...</td>\n",
       "      <td>...</td>\n",
       "    </tr>\n",
       "    <tr>\n",
       "      <th>3549</th>\n",
       "      <td>1.0</td>\n",
       "      <td>a fascinating documentary about the long and e...</td>\n",
       "    </tr>\n",
       "    <tr>\n",
       "      <th>3550</th>\n",
       "      <td>1.0</td>\n",
       "      <td>the filmmakers' eye for detail and the high st...</td>\n",
       "    </tr>\n",
       "    <tr>\n",
       "      <th>3551</th>\n",
       "      <td>1.0</td>\n",
       "      <td>throwing caution to the wind with an invitatio...</td>\n",
       "    </tr>\n",
       "    <tr>\n",
       "      <th>3552</th>\n",
       "      <td>0.0</td>\n",
       "      <td>a big , baggy , sprawling carnival of a movie...</td>\n",
       "    </tr>\n",
       "    <tr>\n",
       "      <th>3553</th>\n",
       "      <td>1.0</td>\n",
       "      <td>an incendiary , deeply thought-provoking look ...</td>\n",
       "    </tr>\n",
       "  </tbody>\n",
       "</table>\n",
       "<p>3554 rows × 2 columns</p>\n",
       "</div>"
      ],
      "text/plain": [
       "      Sentiment                                               Text\n",
       "0           0.0  screenwriter dan schneider and director shawn ...\n",
       "1           0.0  home alone goes hollywood , a funny premise un...\n",
       "2           1.0  seldom has a movie so closely matched the spir...\n",
       "3           0.0  less dizzying than just dizzy , the jaunt is p...\n",
       "4           0.0  an ultra-low-budget indie debut that smacks mo...\n",
       "...         ...                                                ...\n",
       "3549        1.0  a fascinating documentary about the long and e...\n",
       "3550        1.0  the filmmakers' eye for detail and the high st...\n",
       "3551        1.0  throwing caution to the wind with an invitatio...\n",
       "3552        0.0  \n",
       "a big , baggy , sprawling carnival of a movie...\n",
       "3553        1.0  an incendiary , deeply thought-provoking look ...\n",
       "\n",
       "[3554 rows x 2 columns]"
      ]
     },
     "execution_count": 21,
     "metadata": {},
     "output_type": "execute_result"
    }
   ],
   "source": [
    "df_test"
   ]
  },
  {
   "cell_type": "code",
   "execution_count": 22,
   "metadata": {
    "colab": {
     "base_uri": "https://localhost:8080/",
     "height": 54
    },
    "colab_type": "code",
    "executionInfo": {
     "elapsed": 1584,
     "status": "ok",
     "timestamp": 1584637827923,
     "user": {
      "displayName": "Andrés Calfulef Levio",
      "photoUrl": "https://lh3.googleusercontent.com/a-/AOh14GiNg9hZc4Kd3slZQ2wz9P-h4zm4LaeU8AJWjlgtOQ=s64",
      "userId": "04515861908906023812"
     },
     "user_tz": 180
    },
    "id": "kX8OBuYULuA2",
    "outputId": "2603f6b8-38b0-4a2b-e051-7fe9b8f668d8"
   },
   "outputs": [
    {
     "name": "stdout",
     "output_type": "stream",
     "text": [
      "opiniones positivas train:  1770\n",
      "opiniones positivas test:  1751\n"
     ]
    }
   ],
   "source": [
    "np_labels_train = np.array(labels_train)\n",
    "num_ones_train = (np_labels_train == 1).sum()\n",
    "np_labels_test = np.array(labels_test)\n",
    "num_ones_test = (np_labels_test == 1).sum()\n",
    "print(\"opiniones positivas train: \", num_ones_train)\n",
    "print(\"opiniones positivas test: \", num_ones_test)"
   ]
  },
  {
   "cell_type": "code",
   "execution_count": 23,
   "metadata": {
    "colab": {
     "base_uri": "https://localhost:8080/",
     "height": 92
    },
    "colab_type": "code",
    "executionInfo": {
     "elapsed": 1576,
     "status": "ok",
     "timestamp": 1584637827923,
     "user": {
      "displayName": "Andrés Calfulef Levio",
      "photoUrl": "https://lh3.googleusercontent.com/a-/AOh14GiNg9hZc4Kd3slZQ2wz9P-h4zm4LaeU8AJWjlgtOQ=s64",
      "userId": "04515861908906023812"
     },
     "user_tz": 180
    },
    "id": "mxYUJDzWNcpL",
    "outputId": "dcf34226-5175-4589-9dd2-00244a0e975e"
   },
   "outputs": [
    {
     "name": "stdout",
     "output_type": "stream",
     "text": [
      "Largo promedio positivo train:  114.6909604519774\n",
      "Largo promedio negativo train:  114.72309417040358\n",
      "Largo promedio positivo test:  118.83152484294689\n",
      "Largo promedio negativo test:  114.17249029395452\n"
     ]
    }
   ],
   "source": [
    "i = 0\n",
    "sumPositivo = 0\n",
    "sumNegativo = 0\n",
    "total = 3554\n",
    "for i in range(3554):\n",
    "  if labels_train[i] == 1:\n",
    "    sumPositivo += len(df_train_text[i])\n",
    "  else:\n",
    "    sumNegativo += len(df_train_text[i])\n",
    "print(\"Largo promedio positivo train: \", sumPositivo/1770)\n",
    "print(\"Largo promedio negativo train: \", sumNegativo/1784)\n",
    "\n",
    "i = 0\n",
    "sumPositivo = 0\n",
    "sumNegativo = 0\n",
    "total = 3554\n",
    "for i in range(3554):\n",
    "  if labels_test[i] == 1:\n",
    "    sumPositivo += len(df_test_text[i])\n",
    "  else:\n",
    "    sumNegativo += len(df_test_text[i])\n",
    "print(\"Largo promedio positivo test: \", sumPositivo/1751)\n",
    "print(\"Largo promedio negativo test: \", sumNegativo/1803)"
   ]
  },
  {
   "cell_type": "markdown",
   "metadata": {
    "colab_type": "text",
    "id": "XOchD5bmLCaa"
   },
   "source": [
    "Ambos conjuntos tienen la misma cantidad de opiniones: 3554. El conjunto train tiene 1770 opiniones clasificadas como positivas, mientras que el conjunto test tiene 1751. En el conjunto train, el largo promedio de las opiniones positivas y negativas son de 114.69 e 113.79. Mientras que para el conjunto de test son de 118.83 e 114.17"
   ]
  },
  {
   "cell_type": "markdown",
   "metadata": {
    "colab_type": "text",
    "id": "tWE0V8JqR8By"
   },
   "source": [
    "b) Construya un conjunto de validación desde el conjunto de entrenamiento para seleccionar modelos. Decida el tamaño dada la cantidad de ejemplos que se tienen para entrenamiento."
   ]
  },
  {
   "cell_type": "code",
   "execution_count": 24,
   "metadata": {
    "colab": {},
    "colab_type": "code",
    "id": "83JjjwqjSAAG"
   },
   "outputs": [],
   "source": [
    "from sklearn.model_selection import train_test_split\n",
    "df_train_text, df_val_text, labels_train, labels_val  = train_test_split(df_train_text, labels_train, test_size= 0.2, random_state=0)"
   ]
  },
  {
   "cell_type": "markdown",
   "metadata": {
    "colab_type": "text",
    "id": "oFRPl61ISVzr"
   },
   "source": [
    "c) Realice un pre-procesamiento a los textos para normalizar un poco su estructura, para ello utilice el código de ejemplo a continuación, donde se pasa el texto a minúsculas (lower-casing), se reducen las mútliples letras, se eliminan palabras sin significados como artículos, pronombres y preposiciones (stop word removal [3]), además de pasar las palabras a su tronco léxico con la técnica de lemmatizer [4]. Comente la importancia de un correcto pre-procesamiento en el domino de lenguaje natural."
   ]
  },
  {
   "cell_type": "code",
   "execution_count": 25,
   "metadata": {
    "colab": {
     "base_uri": "https://localhost:8080/",
     "height": 148
    },
    "colab_type": "code",
    "executionInfo": {
     "elapsed": 1566,
     "status": "ok",
     "timestamp": 1584637827924,
     "user": {
      "displayName": "Andrés Calfulef Levio",
      "photoUrl": "https://lh3.googleusercontent.com/a-/AOh14GiNg9hZc4Kd3slZQ2wz9P-h4zm4LaeU8AJWjlgtOQ=s64",
      "userId": "04515861908906023812"
     },
     "user_tz": 180
    },
    "id": "BB67ng2Drlu6",
    "outputId": "653b62a5-4e86-4c82-bf65-587620a46cad"
   },
   "outputs": [
    {
     "name": "stderr",
     "output_type": "stream",
     "text": [
      "[nltk_data] Downloading package punkt to /home/mati/nltk_data...\n",
      "[nltk_data]   Package punkt is already up-to-date!\n",
      "[nltk_data] Downloading package wordnet to /home/mati/nltk_data...\n",
      "[nltk_data]   Package wordnet is already up-to-date!\n",
      "[nltk_data] Downloading package stopwords to /home/mati/nltk_data...\n",
      "[nltk_data]   Package stopwords is already up-to-date!\n"
     ]
    },
    {
     "data": {
      "text/plain": [
       "True"
      ]
     },
     "execution_count": 25,
     "metadata": {},
     "output_type": "execute_result"
    }
   ],
   "source": [
    "import nltk\n",
    "nltk.download('punkt')\n",
    "nltk.download('wordnet')\n",
    "nltk.download('stopwords')"
   ]
  },
  {
   "cell_type": "code",
   "execution_count": 26,
   "metadata": {
    "colab": {
     "base_uri": "https://localhost:8080/",
     "height": 35
    },
    "colab_type": "code",
    "executionInfo": {
     "elapsed": 5000,
     "status": "ok",
     "timestamp": 1584637831367,
     "user": {
      "displayName": "Andrés Calfulef Levio",
      "photoUrl": "https://lh3.googleusercontent.com/a-/AOh14GiNg9hZc4Kd3slZQ2wz9P-h4zm4LaeU8AJWjlgtOQ=s64",
      "userId": "04515861908906023812"
     },
     "user_tz": 180
    },
    "id": "mWsLLBl_SZc1",
    "outputId": "9b1f6d37-4730-41a0-d9c3-880d119ec35d"
   },
   "outputs": [
    {
     "name": "stdout",
     "output_type": "stream",
     "text": [
      " lovve eaat car car play playing played cake\n"
     ]
    }
   ],
   "source": [
    "import re, time\n",
    "from nltk.corpus import stopwords\n",
    "from nltk import WordNetLemmatizer, word_tokenize\n",
    "def base_word(word):\n",
    "    wordlemmatizer = WordNetLemmatizer()\n",
    "    return wordlemmatizer.lemmatize(word) \n",
    "def word_extractor(text):\n",
    "    commonwords = stopwords.words('english')\n",
    "    text = re.sub(r'([a-z])\\1+', r'\\1\\1',text) #substitute multiple letter by two\n",
    "    words = \"\"\n",
    "    wordtokens = [ base_word(word.lower()) for word in word_tokenize(text) ]\n",
    "    for word in wordtokens:\n",
    "        if word not in commonwords: #delete stopwords\n",
    "            words+=\" \"+word\n",
    "    return words\n",
    "... #try yourself\n",
    "print(word_extractor(\"I lovve too eaaaat car cars play playing played cake\"))\n",
    "#print(word_extractor(\"I love eating cake\"))\n",
    "#print(word_extractor(\"I loved eating the cake\"))\n",
    "#print(word_extractor(\"I do not love eating cake\"))\n",
    "#print(word_extractor(\"I don't love eating cake\"))\n",
    "... #try yourself\n",
    "texts_train = [word_extractor(text) for text in df_train_text]\n",
    "texts_val = [word_extractor(text) for text in df_val_text]\n",
    "texts_test = [word_extractor(text) for text in df_test_text]"
   ]
  },
  {
   "cell_type": "markdown",
   "metadata": {
    "colab_type": "text",
    "id": "OjPGZUi4m5d1"
   },
   "source": [
    "El vocabulario humano es muy diverso. Existen muchas formas de decir exactamente la misma intención pero con distintas palabras. El uso de bromas, sarcasmos, abreviaciones e incluso faltas de ortografía hace complejo el procesar un texto escrito. Además en internet, como es el caso a analizar, las personas escriben de manera diferente que en contextos mas formales.\n",
    "En especifico, se busca normalizar las oraciones para quitar carga extra que pueda tener el calculo posterior, como transformar negaciones a palabras en positivo y eliminar las abreviaciones.  "
   ]
  },
  {
   "cell_type": "markdown",
   "metadata": {
    "colab_type": "text",
    "id": "_yjsx2tBa9xo"
   },
   "source": [
    "d) Construya una representación vectorial a los textos de entrada para poder ser manejados y clasificados por los modelos de aprendizaje. Para ésto utilice el tipo de característica más común, que consiste en contar cuántas veces aparece cada términos/palabras en el texto, denominado TF (term-frequency). Para esto, se necesita contar con un vocabulario base, el cual se construirá a través de la unión de todas las palabras que observemos en los textos de entrenamiento ¿Cuáles son las palabras más frecuentes?"
   ]
  },
  {
   "cell_type": "code",
   "execution_count": 27,
   "metadata": {
    "colab": {
     "base_uri": "https://localhost:8080/",
     "height": 432
    },
    "colab_type": "code",
    "executionInfo": {
     "elapsed": 4995,
     "status": "ok",
     "timestamp": 1584637831370,
     "user": {
      "displayName": "Andrés Calfulef Levio",
      "photoUrl": "https://lh3.googleusercontent.com/a-/AOh14GiNg9hZc4Kd3slZQ2wz9P-h4zm4LaeU8AJWjlgtOQ=s64",
      "userId": "04515861908906023812"
     },
     "user_tz": 180
    },
    "id": "WszKfetQoLnM",
    "outputId": "51bf42e2-ee0d-43bb-b8ad-8e2b37615e7d"
   },
   "outputs": [
    {
     "name": "stdout",
     "output_type": "stream",
     "text": [
      "Largo diccionario entrenamiento:  8541\n",
      "film 468\n",
      "movie 399\n",
      "one 208\n",
      "ha 200\n",
      "like 192\n",
      "make 156\n",
      "story 143\n",
      "character 136\n",
      "even 119\n",
      "time 118\n",
      "--------------------------------------------------------------\n",
      "film 581\n",
      "movie 568\n",
      "one 259\n",
      "ha 246\n",
      "like 239\n",
      "story 204\n",
      "character 178\n",
      "time 176\n",
      "make 167\n",
      "good 142\n"
     ]
    }
   ],
   "source": [
    "from sklearn.feature_extraction.text import CountVectorizer\n",
    "vectorizer = CountVectorizer(ngram_range=(1, 1), binary=False) #TF representation\n",
    "vectorizer.fit(texts_train)\n",
    "features_train = vectorizer.transform(texts_train)\n",
    "\n",
    "... #transform val and test\n",
    "features_val = vectorizer.transform(texts_val)\n",
    "features_test = vectorizer.transform(texts_test)\n",
    "\n",
    "vocab = vectorizer.get_feature_names()\n",
    "dist=np.array(features_train.sum(axis=0)).reshape(-1,)\n",
    "\n",
    "print(\"Largo diccionario entrenamiento: \", len(vocab))\n",
    "masFrecuentesEntrenamiento = dist.argsort()[-10:][::-1]  # obtiene las 15 palabras mas utilizadas, en orden de frecuencia de mayor a menor\n",
    "for indice in masFrecuentesEntrenamiento:\n",
    "    print(vocab[indice],dist[indice])\n",
    "print(\"--------------------------------------------------------------\")\n",
    "dist=np.array(features_test.sum(axis=0)).reshape(-1,)\n",
    "masFrecuentesTest = dist.argsort()[-10:][::-1]  # obtiene las 15 palabras mas utilizadas, en orden de frecuencia de mayor a menor\n",
    "\n",
    "for indice in masFrecuentesTest:\n",
    "    print(vocab[indice],dist[indice])\n",
    "\n"
   ]
  },
  {
   "cell_type": "markdown",
   "metadata": {
    "colab_type": "text",
    "id": "8wDANFw9bBIW"
   },
   "source": [
    "e) Para tener una visión distinta y entender mejor la representación vectorial realizada, visualice los datos en un plano 2D. Para ésto utilice la técnica LSA (Latent Semantic Analysis) [5] que a diferencia de PCA, no centra los datos antes de realizar la descomposicipon SVD, de ésta manera podrá visualizar el espacio semántico de \"conceptos\" latentes usados en la representación. Coloree cada texto en base a su clase ¿Qué indica lo observado? Comente e interprete los resultados"
   ]
  },
  {
   "cell_type": "code",
   "execution_count": 28,
   "metadata": {
    "colab": {
     "base_uri": "https://localhost:8080/",
     "height": 320
    },
    "colab_type": "code",
    "executionInfo": {
     "elapsed": 5619,
     "status": "ok",
     "timestamp": 1584637832003,
     "user": {
      "displayName": "Andrés Calfulef Levio",
      "photoUrl": "https://lh3.googleusercontent.com/a-/AOh14GiNg9hZc4Kd3slZQ2wz9P-h4zm4LaeU8AJWjlgtOQ=s64",
      "userId": "04515861908906023812"
     },
     "user_tz": 180
    },
    "id": "VQMOhsvtqJ03",
    "outputId": "f0317009-0154-4ba3-aa06-887204180786"
   },
   "outputs": [
    {
     "data": {
      "image/png": "[encoded data removed]",
      "text/plain": [
       "<Figure size 720x360 with 1 Axes>"
      ]
     },
     "metadata": {
      "needs_background": "light"
     },
     "output_type": "display_data"
    }
   ],
   "source": [
    "import matplotlib.pyplot as plt\n",
    "from sklearn.decomposition import TruncatedSVD\n",
    "model = TruncatedSVD(n_components=2)\n",
    "model.fit(features_train)\n",
    "x_plot = model.transform(features_train)\n",
    "plt.figure(figsize=(10,5))\n",
    "plt.scatter(x_plot[:,0], x_plot[:,1], c=labels_train)\n",
    "plt.show()"
   ]
  },
  {
   "cell_type": "markdown",
   "metadata": {
    "colab_type": "text",
    "id": "TXaBL_-73LAZ"
   },
   "source": [
    "En el grafico se puede observar que los conceptos estan mezclados. La mayoría de las zonas (conceptos cercanos) pertenecen a ambas clases. Solo en algunas zonas prevalece una u otra categoría. Esto nos muestra que usar conceptos individualmente no es un buen predictor para clasificar correctamente una oración completa."
   ]
  },
  {
   "cell_type": "markdown",
   "metadata": {
    "colab_type": "text",
    "id": "BOyCDRx6bC-q"
   },
   "source": [
    "f) Entrene un modelo de Regresión Logística Regularizado (utilizando como penalizador la norma  𝑙2 ). Varíe el parámetro de regularización  𝐶 , en potencias de 10, midiendo el error de predicción obtenido sobre los datos de entrenamiento y validación, construya un gráfico que muestre la variación de ambos errores respecto al parámetro  𝐶 . Explique el significado y valor esperado del parámetro de regularización."
   ]
  },
  {
   "cell_type": "code",
   "execution_count": 29,
   "metadata": {
    "colab": {
     "base_uri": "https://localhost:8080/",
     "height": 623
    },
    "colab_type": "code",
    "executionInfo": {
     "elapsed": 6600,
     "status": "ok",
     "timestamp": 1584637832994,
     "user": {
      "displayName": "Andrés Calfulef Levio",
      "photoUrl": "https://lh3.googleusercontent.com/a-/AOh14GiNg9hZc4Kd3slZQ2wz9P-h4zm4LaeU8AJWjlgtOQ=s64",
      "userId": "04515861908906023812"
     },
     "user_tz": 180
    },
    "id": "3Ecqw6X_3kAL",
    "outputId": "68ae5fe8-3d80-47fe-8859-d0bc6526049d"
   },
   "outputs": [
    {
     "name": "stderr",
     "output_type": "stream",
     "text": [
      "/home/mati/anaconda3/lib/python3.7/site-packages/sklearn/linear_model/_logistic.py:940: ConvergenceWarning: lbfgs failed to converge (status=1):\n",
      "STOP: TOTAL NO. of ITERATIONS REACHED LIMIT.\n",
      "\n",
      "Increase the number of iterations (max_iter) or scale the data as shown in:\n",
      "    https://scikit-learn.org/stable/modules/preprocessing.html\n",
      "Please also refer to the documentation for alternative solver options:\n",
      "    https://scikit-learn.org/stable/modules/linear_model.html#logistic-regression\n",
      "  extra_warning_msg=_LOGISTIC_SOLVER_CONVERGENCE_MSG)\n",
      "/home/mati/anaconda3/lib/python3.7/site-packages/sklearn/linear_model/_logistic.py:940: ConvergenceWarning: lbfgs failed to converge (status=1):\n",
      "STOP: TOTAL NO. of ITERATIONS REACHED LIMIT.\n",
      "\n",
      "Increase the number of iterations (max_iter) or scale the data as shown in:\n",
      "    https://scikit-learn.org/stable/modules/preprocessing.html\n",
      "Please also refer to the documentation for alternative solver options:\n",
      "    https://scikit-learn.org/stable/modules/linear_model.html#logistic-regression\n",
      "  extra_warning_msg=_LOGISTIC_SOLVER_CONVERGENCE_MSG)\n"
     ]
    },
    {
     "name": "stdout",
     "output_type": "stream",
     "text": [
      "Best accuracy test =  0.7116736990154712\n",
      "Best param test =  1.0\n"
     ]
    },
    {
     "data": {
      "image/png": "[encoded data removed]",
      "text/plain": [
       "<Figure size 432x288 with 1 Axes>"
      ]
     },
     "metadata": {
      "needs_background": "light"
     },
     "output_type": "display_data"
    }
   ],
   "source": [
    "from sklearn.linear_model import LogisticRegression\n",
    "def do_LOGIT(x,y,xv,yv, param):\n",
    "    model= LogisticRegression()\n",
    "    model.set_params(C=param)\n",
    "    model.fit(x,y)\n",
    "    train_acc = model.score(x,y)\n",
    "    test_acc = model.score(xv,yv)\n",
    "    return model, train_acc, test_acc\n",
    "Cs = [10**i for i in np.arange(-4.0,4.0)]\n",
    "\n",
    "y_train_acc = np.empty(len(Cs))\n",
    "y_test_acc = np.empty(len(Cs))\n",
    "bestAcc = 0\n",
    "bestParam = 0\n",
    "\n",
    "for i in range(len(Cs)):\n",
    "    _, train_acc, test_acc = do_LOGIT(features_train,labels_train,features_val,labels_val, param= Cs[i])\n",
    "\n",
    "    y_train_acc[i] = train_acc\n",
    "    y_test_acc[i] = test_acc\n",
    "\n",
    "    if test_acc > bestAcc:\n",
    "      bestAcc = test_acc\n",
    "      bestParam = Cs[i]\n",
    "\n",
    "print(\"Best accuracy test = \", bestAcc)\n",
    "print(\"Best param test = \", bestParam)\n",
    "plt.plot(Cs,y_train_acc,'s--m',label =\"Entrenamiento\")\n",
    "plt.plot(Cs,y_test_acc,'s--g',label =\"Validacion\")\n",
    "plt.legend(loc='best')\n",
    "plt.xlabel(\"C parameter\")\n",
    "plt.ylabel(\"Accuracy\")\n",
    "plt.xscale('log')"
   ]
  },
  {
   "cell_type": "markdown",
   "metadata": {
    "colab_type": "text",
    "id": "Yp5-80NES5zr"
   },
   "source": [
    "El parámetro de regularización regula la penalización de datos extremos. Se busca evitar tomar muy en cuenta datos outliers, eliminando \"ruido\" de la muestra, evitando imaginar patrones donde no los hay.\n",
    "Se puede observar que al variar parámetro de regularización, el conjunto de entrenamiento tiene una presición cercana a 1 cuando el parámetro es mayor a 1. Y en cuanto a los datos de validación el mejor resultado es de 0.7117 usando el parámetro igual a 1."
   ]
  },
  {
   "cell_type": "markdown",
   "metadata": {
    "colab_type": "text",
    "id": "-Fn-Rx3rbFRH"
   },
   "source": [
    "g) Entrene una Máquina de Soporte Vectorial (SVM) con distintos kernels. Similar a lo anterior, construya un gráfico que muestre la variación de ambos errores respecto al parámetro de regularización  𝐶  para cada tipo de kernel que experimente. Explique el significado y valor esperado de los parámetros en este modelo."
   ]
  },
  {
   "cell_type": "code",
   "execution_count": 31,
   "metadata": {
    "colab": {
     "base_uri": "https://localhost:8080/",
     "height": 1000
    },
    "colab_type": "code",
    "executionInfo": {
     "elapsed": 132931,
     "status": "ok",
     "timestamp": 1584637959336,
     "user": {
      "displayName": "Andrés Calfulef Levio",
      "photoUrl": "https://lh3.googleusercontent.com/a-/AOh14GiNg9hZc4Kd3slZQ2wz9P-h4zm4LaeU8AJWjlgtOQ=s64",
      "userId": "04515861908906023812"
     },
     "user_tz": 180
    },
    "id": "0ulycbJN6b9W",
    "outputId": "bb33cdf2-8587-4150-ab00-347bdcd941b7"
   },
   "outputs": [
    {
     "name": "stdout",
     "output_type": "stream",
     "text": [
      "Kernel:  linear\n",
      "  Best accuracy test =  0.6919831223628692\n",
      "  Best param test =  0.1\n",
      "Kernel:  poly2\n",
      "  Best accuracy test =  0.680731364275668\n",
      "  Best param test =  1.0\n",
      "Kernel:  poly3\n",
      "  Best accuracy test =  0.6624472573839663\n",
      "  Best param test =  10.0\n",
      "Kernel:  poly5\n",
      "  Best accuracy test =  0.5457102672292545\n",
      "  Best param test =  1000.0\n",
      "Kernel:  rbf\n",
      "  Best accuracy test =  0.6919831223628692\n",
      "  Best param test =  10.0\n",
      "Kernel:  sigmoid\n",
      "  Best accuracy test =  0.7018284106891702\n",
      "  Best param test =  1.0\n"
     ]
    },
    {
     "data": {
      "image/png": "[encoded data removed]",
      "text/plain": [
       "<Figure size 432x288 with 1 Axes>"
      ]
     },
     "metadata": {
      "needs_background": "light"
     },
     "output_type": "display_data"
    },
    {
     "data": {
      "image/png": "[encoded data removed]",
      "text/plain": [
       "<Figure size 432x288 with 1 Axes>"
      ]
     },
     "metadata": {
      "needs_background": "light"
     },
     "output_type": "display_data"
    },
    {
     "data": {
      "image/png": "[encoded data removed]",
      "text/plain": [
       "<Figure size 432x288 with 1 Axes>"
      ]
     },
     "metadata": {
      "needs_background": "light"
     },
     "output_type": "display_data"
    },
    {
     "data": {
      "image/png": "[encoded data removed]",
      "text/plain": [
       "<Figure size 432x288 with 1 Axes>"
      ]
     },
     "metadata": {
      "needs_background": "light"
     },
     "output_type": "display_data"
    },
    {
     "data": {
      "image/png": "[encoded data removed]",
      "text/plain": [
       "<Figure size 432x288 with 1 Axes>"
      ]
     },
     "metadata": {
      "needs_background": "light"
     },
     "output_type": "display_data"
    },
    {
     "data": {
      "image/png": "[encoded data removed]",
      "text/plain": [
       "<Figure size 432x288 with 1 Axes>"
      ]
     },
     "metadata": {
      "needs_background": "light"
     },
     "output_type": "display_data"
    }
   ],
   "source": [
    "from sklearn.svm import SVC as SVM #SVC is for classification\n",
    "def do_SVM(x,y,xv,yv, param, kernel='linear', d=1):\n",
    "    model= SVM()\n",
    "    if kernel == 'poly':\n",
    "      model.set_params(C=param, kernel=kernel, degree = d)\n",
    "    else:\n",
    "      model.set_params(C=param,kernel=kernel) #try rbf and linear at least\n",
    "    model.fit(x,y)\n",
    "    train_acc = model.score(x,y)\n",
    "    test_acc = model.score(xv,yv)\n",
    "    return model, train_acc, test_acc\n",
    "Cs = [10.0**i for i in np.arange(-4,4)]\n",
    "\n",
    "kernels = ['linear', 'poly2', 'poly3', 'poly5', 'rbf', 'sigmoid']\n",
    "\n",
    "y_train_acc = np.empty(len(Cs))\n",
    "y_test_acc = np.empty(len(Cs))\n",
    "\n",
    "for kernel in kernels:\n",
    "  bestAcc = 0\n",
    "  bestParam = 0\n",
    "  for i in range(len(Cs)):\n",
    "    if kernel == 'poly2':\n",
    "      model, train_acc, test_acc = do_SVM(features_train, labels_train, features_val, labels_val, Cs[i], 'poly', 2)\n",
    "    elif kernel == 'poly3':\n",
    "      model, train_acc, test_acc = do_SVM(features_train, labels_train, features_val, labels_val, Cs[i], 'poly', 3)\n",
    "    elif kernel == 'poly5':\n",
    "      model, train_acc, test_acc = do_SVM(features_train, labels_train, features_val, labels_val, Cs[i], 'poly', 5)\n",
    "    else:\n",
    "      model, train_acc, test_acc = do_SVM(features_train, labels_train, features_val, labels_val, Cs[i], kernel)\n",
    "    y_train_acc[i] = train_acc\n",
    "    y_test_acc[i] = test_acc\n",
    "    if test_acc > bestAcc:\n",
    "      bestAcc = test_acc\n",
    "      bestParam = Cs[i]\n",
    "  print(\"Kernel: \", kernel)\n",
    "  print(\"  Best accuracy test = \", bestAcc)\n",
    "  print(\"  Best param test = \", bestParam)\n",
    "\n",
    "  plt.subplots()\n",
    "  plt.plot(Cs, y_train_acc, 's--m', label =\"Train\")\n",
    "  plt.plot(Cs, y_test_acc, 's--g', label =\"Validation\")\n",
    "  plt.legend(loc='best')\n",
    "  plt.xlabel(\"C parameter\")\n",
    "  plt.ylabel(\"Accuracy\")\n",
    "  title = \"SVM kernel: \" + kernel\n",
    "  plt.title(title)\n",
    "  plt.xscale('log')\n",
    "   \n",
    "plt.show()"
   ]
  },
  {
   "cell_type": "markdown",
   "metadata": {
    "colab_type": "text",
    "id": "kUPSrcNvaups"
   },
   "source": [
    "Los distintos kernel redistribuyen los datos a distintas dimensionalidades con el fin de intentar separar los datos para una mejor clasificación. Todas las SVM tuvieron un rendimiento similar, la de mejor calidad fue usando un kernel sigmoid con una presición de 0.7018. "
   ]
  },
  {
   "cell_type": "markdown",
   "metadata": {
    "colab_type": "text",
    "id": "ZXf3LOhQbIdC"
   },
   "source": [
    "h) Utilice el algoritmo de similaridad k-NN para intentar resolver el problema. Varíe el parámetro de los vecinos  𝑘  en un rango que estime conveniente y realice graficos de errores como en las preguntas anteriores. Comente sobre el valor esperado de este parámetro."
   ]
  },
  {
   "cell_type": "code",
   "execution_count": null,
   "metadata": {
    "colab": {
     "base_uri": "https://localhost:8080/",
     "height": 335
    },
    "colab_type": "code",
    "executionInfo": {
     "elapsed": 145538,
     "status": "ok",
     "timestamp": 1584637971953,
     "user": {
      "displayName": "Andrés Calfulef Levio",
      "photoUrl": "https://lh3.googleusercontent.com/a-/AOh14GiNg9hZc4Kd3slZQ2wz9P-h4zm4LaeU8AJWjlgtOQ=s64",
      "userId": "04515861908906023812"
     },
     "user_tz": 180
    },
    "id": "4HfFTUH_Bqz6",
    "outputId": "9d4f8859-de59-4fe8-b34f-84714d2a3c88"
   },
   "outputs": [],
   "source": [
    "from sklearn.neighbors import KNeighborsClassifier\n",
    "def do_KNN(x,y,xv,yv, param):\n",
    "    model = KNeighborsClassifier()\n",
    "    ##print(\"Param K= \",param)\n",
    "    model.set_params(n_neighbors=param)\n",
    "    model.fit(x,y)\n",
    "    train_acc = model.score(x,y)\n",
    "    test_acc = model.score(xv,yv)\n",
    "    return model, train_acc, test_acc\n",
    "Ks = np.arange(1, features_train.shape[0], 200)\n",
    "\n",
    "y_train_acc = np.empty(len(Ks))\n",
    "y_test_acc = np.empty(len(Ks))\n",
    "bestAcc = 0\n",
    "bestParam = 0\n",
    "\n",
    "for i in range(len(Ks)):\n",
    "  _, train_acc, test_acc = do_KNN(features_train, labels_train, features_val, labels_val, Ks[i])\n",
    "  y_train_acc[i] = train_acc\n",
    "  y_test_acc[i] = test_acc\n",
    "  if test_acc > bestAcc:\n",
    "    bestAcc = test_acc\n",
    "    bestParam = Ks[i]\n",
    "\n",
    "print(\"Best accuracy test = \", bestAcc)\n",
    "print(\"Best param test = \", bestParam)\n",
    "plt.plot(Ks,y_train_acc,'s--m',label =\"Entrenamiento\")\n",
    "plt.plot(Ks,y_test_acc,'s--g',label =\"Validacion\")\n",
    "plt.legend(loc='best')\n",
    "plt.xlabel(\"Valor de K\")\n",
    "plt.ylabel(\"Accuracy\")"
   ]
  },
  {
   "cell_type": "markdown",
   "metadata": {
    "colab_type": "text",
    "id": "4tY5qB7Telip"
   },
   "source": [
    "A priori no se puede determinar un valor de k que aumente la precisión del modelo. Se aumenta el numero de vecinos en aumentos de 200 vecinos en cada iteración de la experimentación. El mejor resultado obtenido para el conjunto de validación se obtuvo con 201 vecinos, donde la precision fue de 70% aproximadamente."
   ]
  },
  {
   "cell_type": "markdown",
   "metadata": {
    "colab_type": "text",
    "id": "4g0dMy0XbKOS"
   },
   "source": [
    "i) Entrene un Arbol de Decisión para resolver el problema. Varíe los parámetros de max depth y min samples split de manera separada, constuyendo gráficos de error respecto a estos parámetros. Los valores que se presentan son sugerencias, no es necesario utilizar los mismos. Comente sobre la diferencia entre la selección de estos dos parámetros."
   ]
  },
  {
   "cell_type": "code",
   "execution_count": null,
   "metadata": {
    "colab": {
     "base_uri": "https://localhost:8080/",
     "height": 1000
    },
    "colab_type": "code",
    "executionInfo": {
     "elapsed": 150577,
     "status": "ok",
     "timestamp": 1584637977007,
     "user": {
      "displayName": "Andrés Calfulef Levio",
      "photoUrl": "https://lh3.googleusercontent.com/a-/AOh14GiNg9hZc4Kd3slZQ2wz9P-h4zm4LaeU8AJWjlgtOQ=s64",
      "userId": "04515861908906023812"
     },
     "user_tz": 180
    },
    "id": "c3LHq8wjF36P",
    "outputId": "d341f5aa-4f01-4c3a-9c08-6cce869fd0e7"
   },
   "outputs": [],
   "source": [
    "from sklearn.tree import DecisionTreeClassifier as Tree\n",
    "def do_Tree(x,y,xv,yv, param_d=None, param_m=2):\n",
    "    model= Tree()\n",
    "    #print(\"Param Max-D= \",param_d, 'Min-samples-S= ', param_m)\n",
    "    model.set_params(max_depth=param_d, min_samples_split=param_m) \n",
    "    model.fit(x,y)\n",
    "    train_acc = model.score(x,y)\n",
    "    test_acc = model.score(xv,yv)\n",
    "    return model, train_acc, test_acc\n",
    "Depths = np.arange(1, features_train.shape[1], int(features_train.shape[1]/5) ) #choose steps\n",
    "SamplesS = np.arange(2, features_train.shape[0] , int(features_train.shape[0]/5) ) #choose steps\n",
    "\n",
    "y_train_acc = np.empty(len(SamplesS))\n",
    "y_test_acc = np.empty(len(SamplesS))\n",
    "bestAcc = 0\n",
    "bestParam = 0\n",
    "\n",
    "for i in range(len(Depths)):\n",
    "    for j in range(len(SamplesS)):\n",
    "        _, train_acc, test_acc = do_Tree(features_train, labels_train, features_val, labels_val, Depths[i],SamplesS[j])\n",
    "        y_train_acc[j] = train_acc\n",
    "        y_test_acc[j] = test_acc\n",
    "        #if test_acc > bestAcc:\n",
    "           # bestAcc = test_acc\n",
    "            #bestParam = Depths[i]\n",
    "    plt.subplots()\n",
    "    plt.plot(SamplesS,y_train_acc,'s--m',label =\"Entrenamiento\")\n",
    "    plt.plot(SamplesS,y_test_acc,'s--g',label =\"Validacion\")\n",
    "    plt.legend(loc='best')\n",
    "    plt.xlabel(\"Valor de Samples\")\n",
    "    plt.ylabel(\"Accuracy\")\n",
    "    plt.title('Profundidad del '+str((i/len(Depths))*100)+'%')\n",
    "    \n",
    "plt.show()"
   ]
  },
  {
   "cell_type": "markdown",
   "metadata": {
    "colab_type": "text",
    "id": "PzpVzvgHlwqx"
   },
   "source": [
    "Al aumentar el numero de samples, se observa que el rendimiento del modelo empeora, sus mejores resultados se encuentran entre 500 y 1000 samples. Por otro lado, al aumentar la profundidad, no aumenta la precisión del algoritmo, esa se mantiene alrededor del 60% en todos lo casos."
   ]
  },
  {
   "cell_type": "markdown",
   "metadata": {
    "colab_type": "text",
    "id": "nuhAHofXbL7F"
   },
   "source": [
    "j) Utilice una Red Neuronal Artificial (ANN) para intentar resolver el problema, como la que se señala a continuación (utilizando el framework de keras): entrenada por 25 iteraciones al dataset (epochs) con un tamaño de batch de 128 para las actualizaciones de los pesos, utilizando SGD con una tasa de aprendizaje  0.1  sobre la función de pérdida binaria de clasificación. La arquitectura de la red contiene una capa de salida con una única neurona que indica la probabilidad de que el texto sea positivo, una capa escondida con número de neuronas  𝑁ℎ  y la capa de entrada implícita para  𝑥 . Varíe el parámetro que corresponde al número de neuronas en la capa oculta  𝑁ℎ , en potencias de 2, y vuelva a realizar el gráfico de error con respecto al parámetro. Comente."
   ]
  },
  {
   "cell_type": "code",
   "execution_count": 32,
   "metadata": {
    "colab": {
     "base_uri": "https://localhost:8080/",
     "height": 491
    },
    "colab_type": "code",
    "executionInfo": {
     "elapsed": 287462,
     "status": "ok",
     "timestamp": 1584638113904,
     "user": {
      "displayName": "Andrés Calfulef Levio",
      "photoUrl": "https://lh3.googleusercontent.com/a-/AOh14GiNg9hZc4Kd3slZQ2wz9P-h4zm4LaeU8AJWjlgtOQ=s64",
      "userId": "04515861908906023812"
     },
     "user_tz": 180
    },
    "id": "kWT2Rgi5RqOl",
    "outputId": "bfdf3b9e-7171-434e-944b-e545580e7ee8"
   },
   "outputs": [
    {
     "ename": "ModuleNotFoundError",
     "evalue": "No module named 'keras'",
     "output_type": "error",
     "traceback": [
      "\u001b[0;31m---------------------------------------------------------------------------\u001b[0m",
      "\u001b[0;31mModuleNotFoundError\u001b[0m                       Traceback (most recent call last)",
      "\u001b[0;32m<ipython-input-32-182717540216>\u001b[0m in \u001b[0;36m<module>\u001b[0;34m\u001b[0m\n\u001b[0;32m----> 1\u001b[0;31m \u001b[0;32mfrom\u001b[0m \u001b[0mkeras\u001b[0m\u001b[0;34m.\u001b[0m\u001b[0mmodels\u001b[0m \u001b[0;32mimport\u001b[0m \u001b[0mSequential\u001b[0m\u001b[0;34m\u001b[0m\u001b[0;34m\u001b[0m\u001b[0m\n\u001b[0m\u001b[1;32m      2\u001b[0m \u001b[0;32mfrom\u001b[0m \u001b[0mkeras\u001b[0m\u001b[0;34m.\u001b[0m\u001b[0mlayers\u001b[0m \u001b[0;32mimport\u001b[0m \u001b[0mDense\u001b[0m\u001b[0;34m\u001b[0m\u001b[0;34m\u001b[0m\u001b[0m\n\u001b[1;32m      3\u001b[0m \u001b[0;32mfrom\u001b[0m \u001b[0mkeras\u001b[0m\u001b[0;34m.\u001b[0m\u001b[0moptimizers\u001b[0m \u001b[0;32mimport\u001b[0m \u001b[0mSGD\u001b[0m\u001b[0;34m\u001b[0m\u001b[0;34m\u001b[0m\u001b[0m\n\u001b[1;32m      4\u001b[0m \u001b[0;32mdef\u001b[0m \u001b[0mdo_ANN\u001b[0m\u001b[0;34m(\u001b[0m\u001b[0mx\u001b[0m\u001b[0;34m,\u001b[0m\u001b[0my\u001b[0m\u001b[0;34m,\u001b[0m \u001b[0mxv\u001b[0m\u001b[0;34m,\u001b[0m\u001b[0myv\u001b[0m\u001b[0;34m,\u001b[0m \u001b[0mparam\u001b[0m\u001b[0;34m)\u001b[0m\u001b[0;34m:\u001b[0m\u001b[0;34m\u001b[0m\u001b[0;34m\u001b[0m\u001b[0m\n\u001b[1;32m      5\u001b[0m     \u001b[0mprint\u001b[0m\u001b[0;34m(\u001b[0m\u001b[0;34m\"Neuron hidden = \"\u001b[0m\u001b[0;34m,\u001b[0m\u001b[0mparam\u001b[0m\u001b[0;34m)\u001b[0m\u001b[0;34m\u001b[0m\u001b[0;34m\u001b[0m\u001b[0m\n",
      "\u001b[0;31mModuleNotFoundError\u001b[0m: No module named 'keras'"
     ]
    }
   ],
   "source": [
    "from keras.models import Sequential\n",
    "from keras.layers import Dense\n",
    "from keras.optimizers import SGD\n",
    "def do_ANN(x,y, xv,yv, param):\n",
    "    print(\"Neuron hidden = \",param)\n",
    "    model = Sequential()\n",
    "    model.add(Dense(units=param, input_dim=x.shape[1], activation=\"sigmoid\"))\n",
    "    model.add(Dense(1, activation=\"sigmoid\"))\n",
    "    model.compile(optimizer=SGD(lr=0.1), loss=\"binary_crossentropy\", metrics=[\"accuracy\"])\n",
    "    model.fit(x, y, epochs=25, batch_size=128, verbose=0)\n",
    "    train_acc = model.evaluate(x,y, verbose=0)[1] #in position 0 is the loss\n",
    "    test_acc = model.evaluate(xv,yv, verbose=0)[1]\n",
    "    return model, train_acc, test_acc\n",
    "N_h = [2**i for i in range(1,10)]\n",
    "\n",
    "y_train_acc = np.empty(len(N_h))\n",
    "y_test_acc = np.empty(len(N_h))\n",
    "bestAcc = 0\n",
    "bestNeurons = 0\n",
    "\n",
    "for i in range(len(N_h)):\n",
    "    _, train_acc, test_acc = do_ANN(features_train, labels_train, features_val, labels_val, N_h[i])\n",
    "    y_train_acc[i] = train_acc\n",
    "    y_test_acc[i] = test_acc\n",
    "    if test_acc > bestAcc:\n",
    "      bestAcc = test_acc\n",
    "      bestNeurons = N_h[i]\n",
    "\n",
    "print(\"Best accuracy test = \", bestAcc)\n",
    "print(\"Best Hidden Neurons = \", bestNeurons)\n",
    "\n",
    "plt.plot(N_h,y_train_acc,'s--m',label =\"Train\")\n",
    "plt.plot(N_h,y_test_acc,'s--g',label =\"Validation\")\n",
    "plt.legend(loc='best')\n",
    "plt.xlabel(\"Hidden Neurons\")\n",
    "plt.ylabel(\"Accuracy\")\n",
    "plt.xscale('log', basex=2)"
   ]
  },
  {
   "cell_type": "markdown",
   "metadata": {
    "colab_type": "text",
    "id": "SRsOrmIMb2Ly"
   },
   "source": [
    "Lo primero en notar es el tiempo que toma el metodo para entregar las soluciones. La presicion disminuye considerablemente con el excesivo aumento de neuronas, mayores a 100. Es posible que los datos sean muy pocos como para usar tantas neuronas. El mejor resultado se obtiene con 2 neuronas con una precision de 0.6438."
   ]
  },
  {
   "cell_type": "markdown",
   "metadata": {
    "colab_type": "text",
    "id": "ym0RvIZTbNeY"
   },
   "source": [
    "k) Ahora evalúe sobre el conjunto de pruebas el mejor modelo obtenido, seleccionado en base a la métrica de desempeño en el conjunto de validación. Comente sobre la calidad obtenida en el problema trabajado ¿Es un buen valor? ¿Cuál podría ser un valor de referencia?"
   ]
  },
  {
   "cell_type": "code",
   "execution_count": 34,
   "metadata": {
    "colab": {
     "base_uri": "https://localhost:8080/",
     "height": 73
    },
    "colab_type": "code",
    "executionInfo": {
     "elapsed": 288247,
     "status": "ok",
     "timestamp": 1584638114702,
     "user": {
      "displayName": "Andrés Calfulef Levio",
      "photoUrl": "https://lh3.googleusercontent.com/a-/AOh14GiNg9hZc4Kd3slZQ2wz9P-h4zm4LaeU8AJWjlgtOQ=s64",
      "userId": "04515861908906023812"
     },
     "user_tz": 180
    },
    "id": "PSBROe0TZtCa",
    "outputId": "93cb9daa-3cd9-4592-f3a2-5d9cfd004196"
   },
   "outputs": [
    {
     "name": "stdout",
     "output_type": "stream",
     "text": [
      "Precision Training: 0.9912064720365811\n",
      "Precision Validacion: 0.7116736990154712\n",
      "Precision Test: 0.7146876758581879\n"
     ]
    }
   ],
   "source": [
    "model, train_acc, test_acc = do_LOGIT(features_train,labels_train,features_val,labels_val, param= 1)\n",
    "print(f\"Precision Training: {train_acc}\")\n",
    "print(f\"Precision Validacion: {test_acc}\")\n",
    "print(f\"Precision Test: {model.score(features_test, labels_test)}\")"
   ]
  },
  {
   "cell_type": "markdown",
   "metadata": {
    "colab_type": "text",
    "id": "L9AYLCxDaC3j"
   },
   "source": [
    "Con el modelo basado en regresión logístca se logra una precisión de aproximadamente 0.712 lo cual es superior a otros modelos que varian su presicion entre 0.6 y 0.7. Es un valor mucho mejor que usar el azar pero no parece tan bueno. Realmente deseabamos tener un valor sobre el 0.8 o 0.9."
   ]
  },
  {
   "cell_type": "markdown",
   "metadata": {
    "colab_type": "text",
    "id": "LBZepENTbO4a"
   },
   "source": [
    "l) Para comparar sus resultados utilice el modelo VADER (Valence Aware Dictionary and sEntiment Reasoner) [6], el cual entrega una score de predicción a nivel léxico (de palabras que comúnmente se asocian a una orientiación positiva o negativa). Este modelo construido manualmente no requiere entrenamiento, por lo que solo debe evaluar en conjunto de pruebas realizando predicciones del texto bruto (sin pre-procesamiento). Comente."
   ]
  },
  {
   "cell_type": "code",
   "execution_count": 35,
   "metadata": {
    "colab": {
     "base_uri": "https://localhost:8080/",
     "height": 35
    },
    "colab_type": "code",
    "executionInfo": {
     "elapsed": 292704,
     "status": "ok",
     "timestamp": 1584638119166,
     "user": {
      "displayName": "Andrés Calfulef Levio",
      "photoUrl": "https://lh3.googleusercontent.com/a-/AOh14GiNg9hZc4Kd3slZQ2wz9P-h4zm4LaeU8AJWjlgtOQ=s64",
      "userId": "04515861908906023812"
     },
     "user_tz": 180
    },
    "id": "FiDsBGk4hHqU",
    "outputId": "cabfece7-6b5e-433d-f2bd-5099068e7381"
   },
   "outputs": [
    {
     "name": "stdout",
     "output_type": "stream",
     "text": [
      "Collecting vaderSentiment\n",
      "  Downloading vaderSentiment-3.2.1-py2.py3-none-any.whl (125 kB)\n",
      "\u001b[K     |████████████████████████████████| 125 kB 5.4 MB/s eta 0:00:01\n",
      "\u001b[?25hInstalling collected packages: vaderSentiment\n",
      "Successfully installed vaderSentiment-3.2.1\n",
      "Note: you may need to restart the kernel to use updated packages.\n"
     ]
    }
   ],
   "source": [
    "pip install vaderSentiment"
   ]
  },
  {
   "cell_type": "code",
   "execution_count": 36,
   "metadata": {
    "colab": {
     "base_uri": "https://localhost:8080/",
     "height": 35
    },
    "colab_type": "code",
    "executionInfo": {
     "elapsed": 293875,
     "status": "ok",
     "timestamp": 1584638120344,
     "user": {
      "displayName": "Andrés Calfulef Levio",
      "photoUrl": "https://lh3.googleusercontent.com/a-/AOh14GiNg9hZc4Kd3slZQ2wz9P-h4zm4LaeU8AJWjlgtOQ=s64",
      "userId": "04515861908906023812"
     },
     "user_tz": 180
    },
    "id": "mAEuT7z8hSaO",
    "outputId": "14738ef4-660b-4cfd-e8b7-5085517773b3"
   },
   "outputs": [
    {
     "data": {
      "text/plain": [
       "0.6359032076533483"
      ]
     },
     "execution_count": 36,
     "metadata": {},
     "output_type": "execute_result"
    }
   ],
   "source": [
    "from vaderSentiment.vaderSentiment import SentimentIntensityAnalyzer \n",
    "def vader_predict(sentences): \n",
    "    sid_obj = SentimentIntensityAnalyzer() \n",
    "    sent_v = []\n",
    "    for text in sentences:\n",
    "        sentiment_dict = sid_obj.polarity_scores(text) \n",
    "        if sentiment_dict[\"pos\"] > sentiment_dict[\"neg\"]: #based on scores\n",
    "            sent_v.append(1)\n",
    "        else:\n",
    "            sent_v.append(0)\n",
    "    return np.asarray(sent_v)\n",
    "vader_pred_test = vader_predict(df_test_text) \n",
    "from sklearn.metrics import accuracy_score\n",
    "accuracy_score(labels_test, vader_pred_test)"
   ]
  },
  {
   "cell_type": "markdown",
   "metadata": {
    "colab_type": "text",
    "id": "OJGXYCbQhH3g"
   },
   "source": [
    "El modelo VADER arroja una presición de un 0.6359. Es una presición mayor a varios modelos presentados en los puntos anteriores y es notable que lo haga sin entrenamiento, aunque no es un modelo generico puesto que funciona especificamente para este tipo de problemas. Aunque, sigue siendo menor al modelo basado en regresión logística con unas presición de 0.7037."
   ]
  },
  {
   "cell_type": "markdown",
   "metadata": {
    "colab_type": "text",
    "id": "NW91Lb3ebQni"
   },
   "source": [
    "m) Bajo la idea del modelo VADER realice un análisis de qué palabras su modelo tiende a considerar como positivas o negativas por si solas. Algunos de los modelos estudiados en esta sección realizan una predicción probabilista, utilice uno de éstos para verificar lo solicitado. Sobre la representación TF genere datos de entradas que contengan una sola palabra del vocabulario para evaluar que predicción les genera su modelo a esas palabras. Muestre las palabras más negativas y positivas en el vocabulario consideradas por su modelo. Comente."
   ]
  },
  {
   "cell_type": "code",
   "execution_count": 37,
   "metadata": {
    "colab": {
     "base_uri": "https://localhost:8080/",
     "height": 54
    },
    "colab_type": "code",
    "executionInfo": {
     "elapsed": 294398,
     "status": "ok",
     "timestamp": 1584638120874,
     "user": {
      "displayName": "Andrés Calfulef Levio",
      "photoUrl": "https://lh3.googleusercontent.com/a-/AOh14GiNg9hZc4Kd3slZQ2wz9P-h4zm4LaeU8AJWjlgtOQ=s64",
      "userId": "04515861908906023812"
     },
     "user_tz": 180
    },
    "id": "YHNuIpX6jXgV",
    "outputId": "e9cc4497-c6f5-4147-9a23-f7d006cfddc9"
   },
   "outputs": [
    {
     "name": "stdout",
     "output_type": "stream",
     "text": [
      "['world', 'solid', 'heart', 'rare', 'moving', 'still', 'enjoyable', 'ride', 'witty', 'fun']\n",
      "['cliche', 'worst', 'dull', 'bad', 'boring', 'feel', 'nearly', 'silly', 'heavy', 'tv']\n"
     ]
    }
   ],
   "source": [
    "model, train_acc, test_acc = do_LOGIT(features_train,labels_train,features_val,labels_val, param= 1.0)\n",
    "V = len(vocab)\n",
    "word_scores = np.zeros((V, 2))\n",
    "for i in range(V):\n",
    "    x_word = np.zeros((1, V))\n",
    "    x_word[:,i] = 1 # only the \"i\" word appeared\n",
    "    word_scores[i] = model.predict_proba(x_word)\n",
    "\n",
    "popVocab = vocab\n",
    "popScores = word_scores\n",
    "\n",
    "positive = []\n",
    "negative = []\n",
    "\n",
    "for i in range(10):\n",
    "  positive.append(vocab[np.argmax(popScores, axis = 0)[1]])\n",
    "  negative.append(vocab[np.argmax(popScores, axis = 0)[0]])\n",
    "  popScores[np.argmax(popScores, axis = 0)[1]] = 0.5\n",
    "  popScores[np.argmax(popScores, axis = 0)[0]] = 0.5\n",
    "\n",
    "print(positive)\n",
    "print(negative)"
   ]
  },
  {
   "cell_type": "markdown",
   "metadata": {
    "colab_type": "text",
    "id": "Y4ofwsFgyuwk"
   },
   "source": [
    "Entre las 10 palabras mas positivas se encuentran solid, enjoyable, fun, heart que son palabras claramente utiles para describir algo satisfactorio. Tambien se encuentran still y ride, que no parecen tener una predisposición tan \"positiva\", tal vez es por que se usan mucho en oraciones para describir films agradables. En la otra orilla tenemos boring, dull, silly, worst, que son palabras comunes para describir cosas aburridas o poco interesantes. En el top 10 de palabras negativas tambien aparece tv and feel que no parecen palabras comunes para describir cosas negativas."
   ]
  },
  {
   "cell_type": "markdown",
   "metadata": {
    "colab_type": "text",
    "id": "eiOJ5jK3bSZx"
   },
   "source": [
    "n) Intente mejorar los resultados de otra manera. Varíe el pre-procesamiento realizado a los datos en c), por ejemplo eliminar símbolos, números o aplicar la técnica de stemmming [7] en lugar de lemmatization para llevar a su tronco léxico."
   ]
  },
  {
   "cell_type": "code",
   "execution_count": 38,
   "metadata": {
    "colab": {
     "base_uri": "https://localhost:8080/",
     "height": 73
    },
    "colab_type": "code",
    "executionInfo": {
     "elapsed": 9348,
     "status": "ok",
     "timestamp": 1584638511017,
     "user": {
      "displayName": "Andrés Calfulef Levio",
      "photoUrl": "https://lh3.googleusercontent.com/a-/AOh14GiNg9hZc4Kd3slZQ2wz9P-h4zm4LaeU8AJWjlgtOQ=s64",
      "userId": "04515861908906023812"
     },
     "user_tz": 180
    },
    "id": "Xea2ryxStbMA",
    "outputId": "afccc981-ac0d-47b8-82ca-1a031ff76155"
   },
   "outputs": [
    {
     "name": "stdout",
     "output_type": "stream",
     "text": [
      "Precision Training: 0.9989447766443897\n",
      "Precision Validacion: 0.7271448663853727\n",
      "Precision Test: 0.7366347777152504\n"
     ]
    }
   ],
   "source": [
    "import re, time\n",
    "from nltk.corpus import stopwords\n",
    "from nltk import WordNetLemmatizer, word_tokenize\n",
    "from nltk.stem.porter import PorterStemmer\n",
    "\n",
    "def base_word(word):\n",
    "    wordlemmatizer = WordNetLemmatizer()\n",
    "    porter = PorterStemmer()\n",
    "    return wordlemmatizer.lemmatize(porter.stem(word))\n",
    "    \n",
    "def word_extractor(text):\n",
    "    commonwords = stopwords.words('english')\n",
    "    text = re.sub(r'([a-z])\\1+', r'\\1\\1',text) #substitute multiple letter by two\n",
    "    text = re.sub(r'[1-9]','',text)\n",
    "    text = re.sub(r'[!@#$%^&*(),.?\":{}|<>]','',text)\n",
    "    words = \"\"\n",
    "    wordtokens = [ base_word(word.lower()) for word in word_tokenize(text) ]\n",
    "    for word in wordtokens:\n",
    "        if word not in commonwords: #delete stopwords\n",
    "            words+=\" \"+word\n",
    "    commonwords = stopwords.words('spanish')\n",
    "    for word in wordtokens:\n",
    "        if word not in commonwords: #delete stopwords\n",
    "            words+=\" \"+word\n",
    "    \n",
    "    return words\n",
    "# ... #try yourself\n",
    "# print(word_extractor(\"I lov2135e t1 7 78 177171o eat car car play playing played cake\"))\n",
    "# print(word_extractor(\"I love e! * ating cake\"))\n",
    "# print(word_extractor(\"I  es  si tal loved eating the cake\"))\n",
    "# print(word_extractor(\"I do not love eating cake\"))\n",
    "# print(word_extractor(\"I don't love eating cake\"))\n",
    "\n",
    "texts_train = [word_extractor(text) for text in df_train_text]\n",
    "texts_val = [word_extractor(text) for text in df_val_text]\n",
    "texts_test = [word_extractor(text) for text in df_test_text]\n",
    "\n",
    "vectorizer = CountVectorizer(ngram_range=(1, 1), binary=False) #TF representation\n",
    "vectorizer.fit(texts_train)\n",
    "features_train = vectorizer.transform(texts_train)\n",
    "features_val = vectorizer.transform(texts_val)\n",
    "features_test = vectorizer.transform(texts_test)\n",
    "\n",
    "model, train_acc, test_acc = do_LOGIT(features_train,labels_train,features_val,labels_val, param= 1)\n",
    "print(f\"Precision Training: {train_acc}\")\n",
    "print(f\"Precision Validacion: {test_acc}\")\n",
    "print(f\"Precision Test: {model.score(features_test, labels_test)}\")"
   ]
  },
  {
   "cell_type": "markdown",
   "metadata": {
    "colab_type": "text",
    "id": "JgxAAqXGt3zj"
   },
   "source": [
    "Se eliminan los dígitos y símbolos especiales, pero no se logra ninguna mejora apreciable. Posteriormente, se experimenta eliminando las palabras comunes del idioma español y con esto se logra mejorar la solución en un 1%, lo cual es muy bueno. \n",
    "Se aplica la técnica de lemmatizer luego de haber aplicado la técnica de stemmming y se vuelve a mejorar el algoritmo en 1%. \n",
    "\n",
    "Se logra mejorar finalmente el algoritmo en un 2% aproximadamente, utilizando un modelo de regresión logístico. "
   ]
  },
  {
   "cell_type": "markdown",
   "metadata": {
    "colab_type": "text",
    "id": "ms4uhYDBbS9p"
   },
   "source": [
    "o) Varíe la representación utilizada actualmente por alguna otra que ayude a mejorar el desempeño, por ejemplo reducir el peso de una palabra si es que aparece en muchos textos: TF-IDF. Existen varias opciones que podría realizar para mejorar el desempeño, por ejemplo reducir el vocabulario a las  𝐾  palabras más frecuentes, eliminar las palabras menos frecuentes, normalizar la representación, utilizar n-gramas, entre otras."
   ]
  },
  {
   "cell_type": "code",
   "execution_count": 39,
   "metadata": {
    "colab": {
     "base_uri": "https://localhost:8080/",
     "height": 73
    },
    "colab_type": "code",
    "executionInfo": {
     "elapsed": 800,
     "status": "ok",
     "timestamp": 1584638762165,
     "user": {
      "displayName": "Andrés Calfulef Levio",
      "photoUrl": "https://lh3.googleusercontent.com/a-/AOh14GiNg9hZc4Kd3slZQ2wz9P-h4zm4LaeU8AJWjlgtOQ=s64",
      "userId": "04515861908906023812"
     },
     "user_tz": 180
    },
    "id": "PVmPJhRSxL0P",
    "outputId": "6f3f0783-af87-416a-caac-aead012506d8"
   },
   "outputs": [
    {
     "name": "stdout",
     "output_type": "stream",
     "text": [
      "Precision Training: 0.9338726697150896\n",
      "Precision Validacion: 0.7130801687763713\n",
      "Precision Test: 0.7509848058525604\n"
     ]
    }
   ],
   "source": [
    "from sklearn.feature_extraction.text import TfidfVectorizer\n",
    "tfidf_model = TfidfVectorizer(binary=False, ngram_range=(1, 1), max_df=1.0, min_df=1, max_features=None, norm='l2', use_idf=True, sublinear_tf=False)\n",
    "tfidf_model.fit(texts_train)\n",
    "features_train = tfidf_model.transform(texts_train)\n",
    "features_val = tfidf_model.transform(texts_val)\n",
    "features_test = tfidf_model.transform(texts_test)\n",
    "\n",
    "model, train_acc, test_acc = do_LOGIT(features_train,labels_train,features_val,labels_val, param= 1)\n",
    "print(f\"Precision Training: {train_acc}\")\n",
    "print(f\"Precision Validacion: {test_acc}\")\n",
    "print(f\"Precision Test: {model.score(features_test, labels_test)}\")"
   ]
  },
  {
   "cell_type": "markdown",
   "metadata": {
    "colab_type": "text",
    "id": "KD76W9-LyI6_"
   },
   "source": [
    "Se logra mejorar la precisión en un 1.4% modificando la representación, de esta forma se tiene una precisión del 75% aproximadamente."
   ]
  },
  {
   "cell_type": "markdown",
   "metadata": {
    "colab_type": "text",
    "id": "wz8IKo1EbUPn"
   },
   "source": [
    "p) Utilice métricas auxiliares para entender en qué falla su mejor modelo obtenido hasta el momento. ¿La información entregada indica cómo se podría mejorar o cual sería la causa de la falla?"
   ]
  },
  {
   "cell_type": "code",
   "execution_count": 40,
   "metadata": {
    "colab": {
     "base_uri": "https://localhost:8080/",
     "height": 205
    },
    "colab_type": "code",
    "executionInfo": {
     "elapsed": 687,
     "status": "ok",
     "timestamp": 1584638769213,
     "user": {
      "displayName": "Andrés Calfulef Levio",
      "photoUrl": "https://lh3.googleusercontent.com/a-/AOh14GiNg9hZc4Kd3slZQ2wz9P-h4zm4LaeU8AJWjlgtOQ=s64",
      "userId": "04515861908906023812"
     },
     "user_tz": 180
    },
    "id": "ueZOiQiTzHwI",
    "outputId": "db095405-1f84-4a49-f958-ff0ed7d4320e"
   },
   "outputs": [
    {
     "name": "stdout",
     "output_type": "stream",
     "text": [
      "Detailed Analysis Testing Results ...\n",
      "              precision    recall  f1-score   support\n",
      "\n",
      "           -       0.76      0.75      0.75      1803\n",
      "           +       0.75      0.75      0.75      1751\n",
      "\n",
      "    accuracy                           0.75      3554\n",
      "   macro avg       0.75      0.75      0.75      3554\n",
      "weighted avg       0.75      0.75      0.75      3554\n",
      "\n"
     ]
    }
   ],
   "source": [
    "from sklearn.metrics import classification_report\n",
    "def score_the_model(model, x, y):\n",
    "    print(\"Detailed Analysis Testing Results ...\")\n",
    "    print(classification_report(y, model.predict(x), target_names=['-','+']))\n",
    "score_the_model(model, features_test, labels_test )"
   ]
  },
  {
   "cell_type": "markdown",
   "metadata": {
    "colab_type": "text",
    "id": "0oGUJuHpzJug"
   },
   "source": [
    "El modelo muestra una precisión del 75% para detectar textos positivos y una precisión del 76% para los textos negativos. Esto indica que el modelo clasifica de igual forma los textos."
   ]
  },
  {
   "cell_type": "markdown",
   "metadata": {
    "colab_type": "text",
    "id": "X4QEHUcbbVhK"
   },
   "source": [
    "q) Algo que se puede modificar en algunos modelos de aprendizaje es poner peso en cada una de las clases, por ejemplo si una clase es de mayor interés que las otras e interesa reducir más su error. En sklearn ésto puede ser realizado con el parámetro de class_weights. Por ejemplo, asigne que detectar los textos negativos me interesa 5 veces más que detectar los textos positivos. Comente."
   ]
  },
  {
   "cell_type": "code",
   "execution_count": 41,
   "metadata": {
    "colab": {
     "base_uri": "https://localhost:8080/",
     "height": 205
    },
    "colab_type": "code",
    "executionInfo": {
     "elapsed": 784,
     "status": "ok",
     "timestamp": 1584638901945,
     "user": {
      "displayName": "Andrés Calfulef Levio",
      "photoUrl": "https://lh3.googleusercontent.com/a-/AOh14GiNg9hZc4Kd3slZQ2wz9P-h4zm4LaeU8AJWjlgtOQ=s64",
      "userId": "04515861908906023812"
     },
     "user_tz": 180
    },
    "id": "Jb9gyW-_KlV4",
    "outputId": "cc918673-131a-40aa-820c-830b46611224"
   },
   "outputs": [
    {
     "name": "stdout",
     "output_type": "stream",
     "text": [
      "Detailed Analysis Testing Results ...\n",
      "              precision    recall  f1-score   support\n",
      "\n",
      "           -       0.56      0.99      0.71      1803\n",
      "           +       0.94      0.19      0.31      1751\n",
      "\n",
      "    accuracy                           0.59      3554\n",
      "   macro avg       0.75      0.59      0.51      3554\n",
      "weighted avg       0.75      0.59      0.51      3554\n",
      "\n"
     ]
    }
   ],
   "source": [
    "classes_weights = {0: 5, 1: 1} #or choose..\n",
    "model.set_params(class_weight=classes_weights)\n",
    "model.fit(features_train, labels_train)\n",
    "score_the_model(model, features_test, labels_test)"
   ]
  },
  {
   "cell_type": "markdown",
   "metadata": {
    "colab_type": "text",
    "id": "jzl71cDNk7Ua"
   },
   "source": [
    "Se observa que en cuanto a los casos negativos, el modelo tiene a clasificarlos mucho mejor. Le da una mayor importancia a estos. Pero para los casos positivos empeora significativamente su precisión."
   ]
  },
  {
   "cell_type": "markdown",
   "metadata": {
    "colab_type": "text",
    "id": "tG7gzYanbXUg"
   },
   "source": [
    "r) Visualice la clasificación que realiza su mejor modelo sobre algunos textos de pruebas ¿Qué entega mas información, una predicción categórica o una continua? ¿Cuál podría ser el beneficio de una o de otra? Comente"
   ]
  },
  {
   "cell_type": "code",
   "execution_count": 42,
   "metadata": {
    "colab": {
     "base_uri": "https://localhost:8080/",
     "height": 300
    },
    "colab_type": "code",
    "executionInfo": {
     "elapsed": 303953,
     "status": "ok",
     "timestamp": 1584638130467,
     "user": {
      "displayName": "Andrés Calfulef Levio",
      "photoUrl": "https://lh3.googleusercontent.com/a-/AOh14GiNg9hZc4Kd3slZQ2wz9P-h4zm4LaeU8AJWjlgtOQ=s64",
      "userId": "04515861908906023812"
     },
     "user_tz": 180
    },
    "id": "cNyDRDljdkyn",
    "outputId": "6957661f-8dc1-4a06-e3a5-07a0f1a63db3"
   },
   "outputs": [
    {
     "name": "stdout",
     "output_type": "stream",
     "text": [
      "True sent:  0.0 -- Pred sent:  [0.61115554 0.38884446]\n",
      "Raw text:  if you saw it on tv , you'd probably turn it off , convinced that you had already seen that movie .\n",
      "\n",
      "True sent:  0.0 -- Pred sent:  [0.60527353 0.39472647]\n",
      "Raw text:  the mushy finale turns john q into a movie-of-the-week tearjerker .\n",
      "\n",
      "True sent:  1.0 -- Pred sent:  [0.63188344 0.36811656]\n",
      "Raw text:  what the movie lacks in action it more than makes up for in drama , suspense , revenge , and romance .\n",
      "\n",
      "True sent:  0.0 -- Pred sent:  [0.58374991 0.41625009]\n",
      "Raw text:  simply doesn't have sufficient heft to justify its two-hour running time .\n",
      "\n",
      "True sent:  1.0 -- Pred sent:  [0.40585077 0.59414923]\n",
      "Raw text:  though the story . . . is hackneyed , the characters have a freshness and modesty that transcends their predicament .\n",
      "\n"
     ]
    }
   ],
   "source": [
    "classes_weights = {0: 1, 1: 1} #or choose..\n",
    "model.set_params(class_weight=classes_weights)\n",
    "model.fit(features_train, labels_train)\n",
    "\n",
    "test_pred = model.predict_proba(features_test) #or \".predict\"\n",
    "spl = np.random.randint( 0, len(test_pred), size=5)\n",
    "for text, pred_s, true_s in zip(df_test_text[spl], test_pred[spl], labels_test[spl]):\n",
    "    print(\"True sent: \", true_s, \"-- Pred sent: \",pred_s)\n",
    "    print(\"Raw text: \", text)"
   ]
  },
  {
   "cell_type": "code",
   "execution_count": 43,
   "metadata": {
    "colab": {
     "base_uri": "https://localhost:8080/",
     "height": 300
    },
    "colab_type": "code",
    "executionInfo": {
     "elapsed": 728,
     "status": "ok",
     "timestamp": 1584639040635,
     "user": {
      "displayName": "Andrés Calfulef Levio",
      "photoUrl": "https://lh3.googleusercontent.com/a-/AOh14GiNg9hZc4Kd3slZQ2wz9P-h4zm4LaeU8AJWjlgtOQ=s64",
      "userId": "04515861908906023812"
     },
     "user_tz": 180
    },
    "id": "CLR3RG7l2MsR",
    "outputId": "9268bcfa-73d7-491c-cb14-b30dd2105941"
   },
   "outputs": [
    {
     "name": "stdout",
     "output_type": "stream",
     "text": [
      "True sent:  0.0 -- Pred sent:  0.0\n",
      "Raw text:  a puzzling experience .\n",
      "\n",
      "True sent:  0.0 -- Pred sent:  0.0\n",
      "Raw text:  one of the most depressing movie-going experiences i can think of is to sit through about 90 minutes of a so-called 'comedy' and not laugh once .\n",
      "\n",
      "True sent:  0.0 -- Pred sent:  0.0\n",
      "Raw text:  apparently writer-director attal thought he need only cast himself and his movie-star wife sitting around in their drawers to justify a film .\n",
      "\n",
      "True sent:  1.0 -- Pred sent:  1.0\n",
      "Raw text:  gran historia sobre el amor , la familia , la lealtad y la traición que seguramente se convertirá en un nuevo clásico del género .\n",
      "\n",
      "True sent:  0.0 -- Pred sent:  0.0\n",
      "Raw text:  a soulless jumble of ineptly assembled cliches and pabulum that plays like a 95-minute commercial for nba properties .\n",
      "\n"
     ]
    }
   ],
   "source": [
    "test_pred = model.predict(features_test) #or \".predict\"\n",
    "spl = np.random.randint( 0, len(test_pred), size=5)\n",
    "for text, pred_s, true_s in zip(df_test_text[spl], test_pred[spl], labels_test[spl]):\n",
    "    print(\"True sent: \", true_s, \"-- Pred sent: \",pred_s)\n",
    "    print(\"Raw text: \", text)"
   ]
  },
  {
   "cell_type": "markdown",
   "metadata": {
    "colab_type": "text",
    "id": "twWu2hIBlW1h"
   },
   "source": [
    "La información entregada en numeros discretos otorga mas presición. Se puede obdservar que en algunos casos el modelo esta muy seguro de una clasificación en particular, pero en otro apenas pasa el 50% de \"seguridad\" y los clasifica en una u otra categoría. Para ciera implementación se podrían clasificar solo las entradas en los cuales el modelo este mas seguro, como por ejemplo sobre el 60%. Así tendría una mayor presición, y dejar los comentarios bajo ese umbral como \"neutrales\", no positivos ni negativos."
   ]
  },
  {
   "cell_type": "markdown",
   "metadata": {
    "colab_type": "text",
    "id": "pCjzniw3bZKp"
   },
   "source": [
    "s) Comente sobre el desempeño obtenido por los diferentes modelos de aprendizaje utilizados al enfrentar el problema, ¿Dónde pareciera estar la mejora? ¿En la variación de los modelos y sus parámetros o en la modificación de la representación? ¿Cuál modelo de aprendizaje le parece mejor en base a su criterio? ya sea desempeño, tiempo de ejecución comodidad en las decisiones involucradas, etc."
   ]
  },
  {
   "cell_type": "markdown",
   "metadata": {
    "colab_type": "text",
    "id": "dgbyO8XZmKpz"
   },
   "source": [
    "Se observa que todo apoya a mejorar la presicion de los modelos. La selección de parametros es importante, puede mejorar la presición desde un 55% a un 70%. Luego la representación, y el pre procesamiento de los datos tambien afecta. Se pudo observar una mejora del 3% se precición solo modificando los datos de entrada. Finalmente la elección del modelo también es importante. Existiendo diferencias entre distintos modelos de hasta un 10% de presición en sus mejores resultados."
   ]
  },
  {
   "cell_type": "markdown",
   "metadata": {
    "colab_type": "text",
    "id": "E6zrI4rqIBWk"
   },
   "source": [
    "<a id=\"segundo\"></a>\n",
    "## 2. Problema de Múltiples Anotaciones\n",
    "\n",
    "El aprendizaje supervisado visto en clases da cuenta que existe una única posible etiqueta $z$ (*ground truth*) asociada a un dato $x$ para poder aprender de los datos. Sin embargo, la definición del *ground truth* en algunos casos puede resultar bastante difícil de definir o bastante costoso, por ejemplo en problemas médicos donde se deben realizar invasivos exámenes para conocer la \"verdad absoluta\". Como alternativa se pueden recolectar múltiples anotaciones desde personas inexpertas en el área para poder estimar el *ground truth*. \n",
    "\n",
    "<img src=\"http://www.irishenvironment.com/wp-content/uploads/2013/11/crowdsourcing.jpg\" title=\"Title text\" width=\"40%\" />\n",
    "\n",
    "En esta actividad se trabajará en el caso en que contamos con múltiples anotaciones por cada dato de entrada $x_i$ dadas por personas inexpertas a través de Amazon Mechanical Turk (__[AMT](https://www.mturk.com/)__), es decir, $y^{(1)}, y^{(2)} \\ldots y^{(T_i)}$. El problema de predicción trabajado será el mismo de la actividad anterior, el análisis de sentimiento de un extracto de texto en Rotten Tomatoes. Los datos trabajados [[8]](#refs) pueden ser descargados de la página del autor.\n",
    "```\n",
    "wget http://fprodrigues.com//mturk-datasets.tar.gz\n",
    "```\n",
    "\n",
    "De esta manera trabajaremos con el archivo *mturk_answers.csv* en la carpeta *sentiment polarity* que se puede cargar con pandas. En este archivo se tendrán múltiples filas/registros por cada dato de entrenamiento, cada uno representando la etiqueta que entregó una persona (*worker*) a ese dato, los detalles de columnas son:\n",
    "* *WorkerId*: identificador de la persona que etiquetó/anotó el dato\n",
    "* *Input.id*: identificador del dato a etiquetar/anotar\n",
    "* *Input.original_sentence*: texto original del dato\n",
    "* *Input.stemmed_sent*: texto pre-procesado\n",
    "* *Input.true_sent*: sentimiento real (*ground truth*) del dato\n",
    "* *Answer.sent*:   etiqueta/anotación que entregó la persona\n",
    "\n"
   ]
  },
  {
   "cell_type": "code",
   "execution_count": 44,
   "metadata": {
    "colab": {
     "base_uri": "https://localhost:8080/",
     "height": 419
    },
    "colab_type": "code",
    "executionInfo": {
     "elapsed": 643,
     "status": "ok",
     "timestamp": 1584644935109,
     "user": {
      "displayName": "Matías Moreno",
      "photoUrl": "",
      "userId": "11305423297003987678"
     },
     "user_tz": 180
    },
    "id": "TDG-MnLt9jqo",
    "outputId": "432223bf-d722-42ee-c39b-27331bf4e9d4"
   },
   "outputs": [
    {
     "data": {
      "text/html": [
       "<div>\n",
       "<style scoped>\n",
       "    .dataframe tbody tr th:only-of-type {\n",
       "        vertical-align: middle;\n",
       "    }\n",
       "\n",
       "    .dataframe tbody tr th {\n",
       "        vertical-align: top;\n",
       "    }\n",
       "\n",
       "    .dataframe thead th {\n",
       "        text-align: right;\n",
       "    }\n",
       "</style>\n",
       "<table border=\"1\" class=\"dataframe\">\n",
       "  <thead>\n",
       "    <tr style=\"text-align: right;\">\n",
       "      <th></th>\n",
       "      <th>WorkerId</th>\n",
       "      <th>Input.id</th>\n",
       "      <th>Input.original_sentence</th>\n",
       "      <th>Input.stemmed_sent</th>\n",
       "      <th>Input.true_sent</th>\n",
       "      <th>Answer.sent</th>\n",
       "    </tr>\n",
       "  </thead>\n",
       "  <tbody>\n",
       "    <tr>\n",
       "      <th>0</th>\n",
       "      <td>A2HD5XMM48KKJW</td>\n",
       "      <td>4518</td>\n",
       "      <td>the cast is phenomenal , especially the women .</td>\n",
       "      <td>cast phenomen especi women</td>\n",
       "      <td>pos</td>\n",
       "      <td>pos</td>\n",
       "    </tr>\n",
       "    <tr>\n",
       "      <th>1</th>\n",
       "      <td>A2HD5XMM48KKJW</td>\n",
       "      <td>10415</td>\n",
       "      <td>the metaphors are provocative , but too often ...</td>\n",
       "      <td>metaphor provoc often viewer left puzzl mechan...</td>\n",
       "      <td>neg</td>\n",
       "      <td>neg</td>\n",
       "    </tr>\n",
       "    <tr>\n",
       "      <th>2</th>\n",
       "      <td>A2HD5XMM48KKJW</td>\n",
       "      <td>7098</td>\n",
       "      <td>while there's something intrinsically funny ab...</td>\n",
       "      <td>there someth intrins funni sir anthoni hopkin ...</td>\n",
       "      <td>neg</td>\n",
       "      <td>pos</td>\n",
       "    </tr>\n",
       "    <tr>\n",
       "      <th>3</th>\n",
       "      <td>A2HD5XMM48KKJW</td>\n",
       "      <td>4396</td>\n",
       "      <td>a harrowing account of a psychological breakdo...</td>\n",
       "      <td>harrow account psycholog breakdown</td>\n",
       "      <td>pos</td>\n",
       "      <td>neg</td>\n",
       "    </tr>\n",
       "    <tr>\n",
       "      <th>4</th>\n",
       "      <td>A2HD5XMM48KKJW</td>\n",
       "      <td>2812</td>\n",
       "      <td>. . . a visually seductive , unrepentantly tr...</td>\n",
       "      <td>visual seduct unrepentantli trashi rice instal...</td>\n",
       "      <td>pos</td>\n",
       "      <td>pos</td>\n",
       "    </tr>\n",
       "    <tr>\n",
       "      <th>...</th>\n",
       "      <td>...</td>\n",
       "      <td>...</td>\n",
       "      <td>...</td>\n",
       "      <td>...</td>\n",
       "      <td>...</td>\n",
       "      <td>...</td>\n",
       "    </tr>\n",
       "    <tr>\n",
       "      <th>27741</th>\n",
       "      <td>A4F3BK6J0PCVH</td>\n",
       "      <td>7144</td>\n",
       "      <td>the movie fails to live up to the sum of its p...</td>\n",
       "      <td>movi fail live sum part</td>\n",
       "      <td>neg</td>\n",
       "      <td>neg</td>\n",
       "    </tr>\n",
       "    <tr>\n",
       "      <th>27742</th>\n",
       "      <td>A4F3BK6J0PCVH</td>\n",
       "      <td>8293</td>\n",
       "      <td>the balkans provide the obstacle course for th...</td>\n",
       "      <td>balkan provid obstacl cours love good woman</td>\n",
       "      <td>neg</td>\n",
       "      <td>neg</td>\n",
       "    </tr>\n",
       "    <tr>\n",
       "      <th>27743</th>\n",
       "      <td>A4F3BK6J0PCVH</td>\n",
       "      <td>2929</td>\n",
       "      <td>this is a smart movie that knows its classical...</td>\n",
       "      <td>smart movi know classic music know freud know ...</td>\n",
       "      <td>pos</td>\n",
       "      <td>pos</td>\n",
       "    </tr>\n",
       "    <tr>\n",
       "      <th>27744</th>\n",
       "      <td>A4F3BK6J0PCVH</td>\n",
       "      <td>6902</td>\n",
       "      <td>there's something with potential here , but th...</td>\n",
       "      <td>there someth potenti movi decid lavinia conser...</td>\n",
       "      <td>neg</td>\n",
       "      <td>neg</td>\n",
       "    </tr>\n",
       "    <tr>\n",
       "      <th>27745</th>\n",
       "      <td>A4F3BK6J0PCVH</td>\n",
       "      <td>1369</td>\n",
       "      <td>. . . a fun little timewaster , helped especi...</td>\n",
       "      <td>fun littl timewast help especi cool presenc je...</td>\n",
       "      <td>pos</td>\n",
       "      <td>pos</td>\n",
       "    </tr>\n",
       "  </tbody>\n",
       "</table>\n",
       "<p>27746 rows × 6 columns</p>\n",
       "</div>"
      ],
      "text/plain": [
       "             WorkerId  Input.id  \\\n",
       "0      A2HD5XMM48KKJW      4518   \n",
       "1      A2HD5XMM48KKJW     10415   \n",
       "2      A2HD5XMM48KKJW      7098   \n",
       "3      A2HD5XMM48KKJW      4396   \n",
       "4      A2HD5XMM48KKJW      2812   \n",
       "...               ...       ...   \n",
       "27741   A4F3BK6J0PCVH      7144   \n",
       "27742   A4F3BK6J0PCVH      8293   \n",
       "27743   A4F3BK6J0PCVH      2929   \n",
       "27744   A4F3BK6J0PCVH      6902   \n",
       "27745   A4F3BK6J0PCVH      1369   \n",
       "\n",
       "                                 Input.original_sentence  \\\n",
       "0       the cast is phenomenal , especially the women .    \n",
       "1      the metaphors are provocative , but too often ...   \n",
       "2      while there's something intrinsically funny ab...   \n",
       "3      a harrowing account of a psychological breakdo...   \n",
       "4       . . . a visually seductive , unrepentantly tr...   \n",
       "...                                                  ...   \n",
       "27741  the movie fails to live up to the sum of its p...   \n",
       "27742  the balkans provide the obstacle course for th...   \n",
       "27743  this is a smart movie that knows its classical...   \n",
       "27744  there's something with potential here , but th...   \n",
       "27745   . . . a fun little timewaster , helped especi...   \n",
       "\n",
       "                                      Input.stemmed_sent Input.true_sent  \\\n",
       "0                             cast phenomen especi women             pos   \n",
       "1      metaphor provoc often viewer left puzzl mechan...             neg   \n",
       "2      there someth intrins funni sir anthoni hopkin ...             neg   \n",
       "3                     harrow account psycholog breakdown             pos   \n",
       "4      visual seduct unrepentantli trashi rice instal...             pos   \n",
       "...                                                  ...             ...   \n",
       "27741                            movi fail live sum part             neg   \n",
       "27742        balkan provid obstacl cours love good woman             neg   \n",
       "27743  smart movi know classic music know freud know ...             pos   \n",
       "27744  there someth potenti movi decid lavinia conser...             neg   \n",
       "27745  fun littl timewast help especi cool presenc je...             pos   \n",
       "\n",
       "      Answer.sent  \n",
       "0             pos  \n",
       "1             neg  \n",
       "2             pos  \n",
       "3             neg  \n",
       "4             pos  \n",
       "...           ...  \n",
       "27741         neg  \n",
       "27742         neg  \n",
       "27743         pos  \n",
       "27744         neg  \n",
       "27745         pos  \n",
       "\n",
       "[27746 rows x 6 columns]"
      ]
     },
     "execution_count": 44,
     "metadata": {},
     "output_type": "execute_result"
    }
   ],
   "source": [
    "import pandas as pd\n",
    "import numpy as np\n",
    "\n",
    "df = pd.read_csv(\"mturk_answers.csv\") \n",
    "df"
   ]
  },
  {
   "cell_type": "markdown",
   "metadata": {
    "colab_type": "text",
    "id": "RndU6LyjdnUD"
   },
   "source": [
    "Se carga el archivo en un dataFrame de Pandas para comprender con lo que se trabajará."
   ]
  },
  {
   "cell_type": "code",
   "execution_count": 45,
   "metadata": {
    "colab": {},
    "colab_type": "code",
    "id": "KgeZpjsU_b4d"
   },
   "outputs": [],
   "source": [
    "import random\n",
    "df1 = df[['Input.id','Input.original_sentence','Input.true_sent','Answer.sent']]\n",
    "\n",
    "def transform(respuesta):\n",
    "    if respuesta == 'pos':\n",
    "        return 1\n",
    "    else:\n",
    "        return -1\n",
    "\n",
    "DiccIDs = {}\n",
    "for index, row in df.iterrows():\n",
    "    if row['Input.id'] not in DiccIDs:\n",
    "        DiccIDs[row['Input.id']] = transform(row['Answer.sent'])\n",
    "    else:\n",
    "        DiccIDs[row['Input.id']] = DiccIDs[row['Input.id']] + transform(row['Answer.sent'])\n",
    "\n",
    "for k,v in DiccIDs.items():\n",
    "    if v > 0:\n",
    "        DiccIDs[k] = 1\n",
    "    elif v < 0:\n",
    "        DiccIDs[k] = 0\n",
    "    else:\n",
    "        DiccIDs[k] = random.randrange(2)\n",
    "    \n",
    "df1 = df1.drop_duplicates()\n",
    "\n",
    "for index, row in df1.iterrows():\n",
    "    df1.at[index,'Answer.sent']= DiccIDs[row['Input.id']]\n",
    "\n",
    "for index, row in df1.iterrows():\n",
    "    df1.at[index,'Answer.sent']= DiccIDs[row['Input.id']]\n",
    "    if row['Input.true_sent'] == 'pos':\n",
    "        df1.at[index,'Input.true_sent'] = 1\n",
    "    else:\n",
    "        df1.at[index,'Input.true_sent'] = 0\n",
    "\n",
    "df1.rename(columns={\"Input.id\": \"id\", \"Input.original_sentence\": \"Text\",'Answer.sent':'Personas','Input.true_sent':'Real'},inplace=True)\n",
    "\n",
    "df1['Personas'] = (pd.to_numeric(df1['Personas']))\n",
    "df1['Real'] = (pd.to_numeric(df1['Real']))\n",
    "\n",
    "df_train_text = df1.Text\n",
    "df_test_text = df1.Text\n",
    "labels_train = df1.Personas.values\n",
    "labels_test = df1.Real.values\n"
   ]
  },
  {
   "cell_type": "markdown",
   "metadata": {
    "colab_type": "text",
    "id": "Lspe1Au-dfUH"
   },
   "source": [
    "Se toman los comentarios de las peliculas, para utilizar las opiniones que dan las personas, se utilizaran todas las evaluaciones que da cada una por separado y se escoge la opción que sea mas votada. Por ejemplo, si 5 personas opinan que el comentario es positivo y 2 personas opinan que el comentario es negativo, se dirá que el comentario es positivo. "
   ]
  },
  {
   "cell_type": "code",
   "execution_count": 46,
   "metadata": {
    "colab": {},
    "colab_type": "code",
    "id": "tPU8wSW3WA-_"
   },
   "outputs": [],
   "source": [
    "from sklearn.model_selection import train_test_split\n",
    "df_train_text, df_val_text, labels_train, labels_val  = train_test_split(df_train_text, labels_train, test_size= 0.2, random_state=0)"
   ]
  },
  {
   "cell_type": "markdown",
   "metadata": {
    "colab_type": "text",
    "id": "wqjopC29djx7"
   },
   "source": [
    "Se crea el conjunto de train y de validacion, donde el conjunto de train tiene el 80% de los datos y el de validacion un 20%"
   ]
  },
  {
   "cell_type": "code",
   "execution_count": 47,
   "metadata": {
    "colab": {},
    "colab_type": "code",
    "id": "2_sVzPvdg58v"
   },
   "outputs": [],
   "source": [
    "import re, time\n",
    "from nltk.corpus import stopwords\n",
    "from nltk import WordNetLemmatizer, word_tokenize\n",
    "from nltk.stem.porter import PorterStemmer\n",
    "\n",
    "def base_word(word):\n",
    "    wordlemmatizer = WordNetLemmatizer()\n",
    "    porter = PorterStemmer()\n",
    "    return wordlemmatizer.lemmatize(porter.stem(word))\n",
    "    \n",
    "def word_extractor(text):\n",
    "    commonwords = stopwords.words('english')\n",
    "    text = re.sub(r'([a-z])\\1+', r'\\1\\1',text) #substitute multiple letter by two\n",
    "    text = re.sub(r'[1-9]','',text)\n",
    "    text = re.sub(r'[!@#$%^&*(),.?\":{}|<>]','',text)\n",
    "    words = \"\"\n",
    "    wordtokens = [ base_word(word.lower()) for word in word_tokenize(text) ]\n",
    "    for word in wordtokens:\n",
    "        if word not in commonwords: #delete stopwords\n",
    "            words+=\" \"+word\n",
    "    commonwords = stopwords.words('spanish')\n",
    "    for word in wordtokens:\n",
    "        if word not in commonwords: #delete stopwords\n",
    "            words+=\" \"+word\n",
    "    \n",
    "    return words\n",
    "\n",
    "texts_train = [word_extractor(text) for text in df_train_text]\n",
    "texts_val = [word_extractor(text) for text in df_val_text]\n",
    "texts_test = [word_extractor(text) for text in df_test_text]"
   ]
  },
  {
   "cell_type": "markdown",
   "metadata": {
    "colab_type": "text",
    "id": "NE1zvQtjg6s-"
   },
   "source": [
    "Se pre-procesan los datos, utilizando el método que dio mejores resultados en la parte 1 de la tarea."
   ]
  },
  {
   "cell_type": "code",
   "execution_count": 48,
   "metadata": {
    "colab": {},
    "colab_type": "code",
    "id": "DTJnhr3oWYDW"
   },
   "outputs": [],
   "source": [
    "vectorizer = CountVectorizer(ngram_range=(1, 1), binary=False) #TF representation\n",
    "vectorizer.fit(texts_train)\n",
    "features_train = vectorizer.transform(texts_train)\n",
    "features_val = vectorizer.transform(texts_val)\n",
    "features_test = vectorizer.transform(texts_test)"
   ]
  },
  {
   "cell_type": "markdown",
   "metadata": {
    "colab_type": "text",
    "id": "TJJbPeFIhGpP"
   },
   "source": [
    "Se vectorizan los datos utilizando CountVectorizer, el cual cuenta las veces que aparece una palabra."
   ]
  },
  {
   "cell_type": "code",
   "execution_count": 49,
   "metadata": {
    "colab": {
     "base_uri": "https://localhost:8080/",
     "height": 321
    },
    "colab_type": "code",
    "executionInfo": {
     "elapsed": 3410,
     "status": "ok",
     "timestamp": 1584652120700,
     "user": {
      "displayName": "Andrés Calfulef Levio",
      "photoUrl": "https://lh3.googleusercontent.com/a-/AOh14GiNg9hZc4Kd3slZQ2wz9P-h4zm4LaeU8AJWjlgtOQ=s64",
      "userId": "04515861908906023812"
     },
     "user_tz": 180
    },
    "id": "nWPT--5FXz_-",
    "outputId": "cc62290d-7fba-412f-ebf0-8422efddcdb8"
   },
   "outputs": [
    {
     "name": "stdout",
     "output_type": "stream",
     "text": [
      "Best accuracy test =  0.8889574336829118\n",
      "Best param test =  100.0\n"
     ]
    },
    {
     "data": {
      "image/png": "[encoded data removed]",
      "text/plain": [
       "<Figure size 432x288 with 1 Axes>"
      ]
     },
     "metadata": {
      "needs_background": "light"
     },
     "output_type": "display_data"
    }
   ],
   "source": [
    "def do_LOGIT(x,y,xv,yv, param):\n",
    "    model= LogisticRegression(max_iter=10000)\n",
    "    model.set_params(C=param)\n",
    "    model.fit(x,y)\n",
    "    train_acc = model.score(x,y)\n",
    "    test_acc = model.score(xv,yv)\n",
    "    return model, train_acc, test_acc\n",
    "Cs = [10**i for i in np.arange(-4.0,4.0)]\n",
    "\n",
    "y_train_acc = np.empty(len(Cs))\n",
    "y_test_acc = np.empty(len(Cs))\n",
    "bestAcc = 0\n",
    "bestParam = 0\n",
    "\n",
    "for i in range(len(Cs)):\n",
    "    model, train_acc, test_acc = do_LOGIT(features_train,labels_train,features_val,labels_val, param= Cs[i])\n",
    "    y_train_acc[i] = train_acc\n",
    "    y_test_acc[i] = test_acc\n",
    "    \n",
    "    if test_acc > bestAcc:\n",
    "        bestAcc = test_acc\n",
    "        bestParam = Cs[i]\n",
    "    \n",
    "    \n",
    "\n",
    "print(\"Best accuracy test = \", bestAcc)\n",
    "print(\"Best param test = \", bestParam)\n",
    "plt.plot(Cs,y_train_acc,'s--m',label =\"Entrenamiento\")\n",
    "plt.plot(Cs,y_test_acc,'s--g',label =\"Validacion\")\n",
    "plt.legend(loc='best')\n",
    "plt.xlabel(\"Valor de C\")\n",
    "plt.ylabel(\"Precision\")\n",
    "plt.xscale('log')"
   ]
  },
  {
   "cell_type": "markdown",
   "metadata": {
    "colab_type": "text",
    "id": "fMM7NJYmnSoX"
   },
   "source": [
    "Se experimenta igual como se hizo en la parte 1 de esta tarea, con el fin de contrar el mejor parametro que maximice la precision en el conjunto de validacion. Se llega al resultado de que el mejor valor del parametro C es 100, el cual obtiene una precision del 88.5% para el conjunto de validación."
   ]
  },
  {
   "cell_type": "code",
   "execution_count": 50,
   "metadata": {
    "colab": {
     "base_uri": "https://localhost:8080/",
     "height": 35
    },
    "colab_type": "code",
    "executionInfo": {
     "elapsed": 1089,
     "status": "ok",
     "timestamp": 1584652213030,
     "user": {
      "displayName": "Andrés Calfulef Levio",
      "photoUrl": "https://lh3.googleusercontent.com/a-/AOh14GiNg9hZc4Kd3slZQ2wz9P-h4zm4LaeU8AJWjlgtOQ=s64",
      "userId": "04515861908906023812"
     },
     "user_tz": 180
    },
    "id": "25hBhlXCWnUb",
    "outputId": "cb606215-4226-4045-b646-dcb54aa8eaa6"
   },
   "outputs": [
    {
     "name": "stdout",
     "output_type": "stream",
     "text": [
      "Accurracy Score =  0.8526835286859963\n"
     ]
    }
   ],
   "source": [
    "model, train_acc, test_acc = do_LOGIT(features_train,labels_train,features_val,labels_val, param= 100)\n",
    "prediccion = model.predict(features_test)\n",
    "print('Accurracy Score = ', accuracy_score(labels_test,prediccion))"
   ]
  },
  {
   "cell_type": "markdown",
   "metadata": {
    "colab_type": "text",
    "id": "tDBmw0KanpiF"
   },
   "source": [
    "Finalmente se entrena el modelo utilizando el parametro C = 100 y se obtiene una precisión del 84.6% para el ground truth, lo cual es bastante bueno porque nos permite estimar un valor que podría dar persona experta."
   ]
  },
  {
   "cell_type": "markdown",
   "metadata": {
    "colab_type": "text",
    "id": "toeEcLNpSjRT"
   },
   "source": [
    "<a id=\"refs\"></a>\n",
    "## Referencias\n",
    "[1] Keras: Deep Learning library for Theano and TensorFlow. https://keras.io/  \n",
    "[2] https://www.kaggle.com/c/sentiment-analysis-on-movie-reviews  \n",
    "[3] https://en.wikipedia.org/wiki/Stopwords  \n",
    "[4] https://en.wikipedia.org/wiki/Lemmatisation  \n",
    "[5] Landauer, T. K., Foltz, P. W., & Laham, D. (1998). *An introduction to latent semantic analysis*. Discourse processes, 25(2-3), 259-284.  \n",
    "[6] https://github.com/cjhutto/vaderSentiment  \n",
    "[7] https://en.wikipedia.org/wiki/Stemming  \n",
    "[8] Rodrigues, F., Pereira, F., & Ribeiro, B. (2013). *Learning from multiple annotators: distinguishing good from random labelers*. Pattern Recognition Letters, 34(12), 1428-1436."
   ]
  }
 ],
 "metadata": {
  "colab": {
   "collapsed_sections": [],
   "name": "Tarea2-Calfulef-Moreno.ipynb",
   "provenance": []
  },
  "kernelspec": {
   "display_name": "Python 3",
   "language": "python",
   "name": "python3"
  },
  "language_info": {
   "codemirror_mode": {
    "name": "ipython",
    "version": 3
   },
   "file_extension": ".py",
   "mimetype": "text/x-python",
   "name": "python",
   "nbconvert_exporter": "python",
   "pygments_lexer": "ipython3",
   "version": "3.7.6"
  }
 },
 "nbformat": 4,
 "nbformat_minor": 1
}
